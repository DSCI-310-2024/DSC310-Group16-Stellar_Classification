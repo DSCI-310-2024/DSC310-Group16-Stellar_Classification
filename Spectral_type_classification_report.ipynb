{
 "cells": [
  {
   "cell_type": "markdown",
   "id": "5b0d4865-b724-499d-9b8e-b197efc60394",
   "metadata": {},
   "source": [
    "# Introduction"
   ]
  },
  {
   "cell_type": "code",
   "execution_count": 13,
   "id": "ebaec595-3591-4bb7-b64e-1eae0a936095",
   "metadata": {},
   "outputs": [
    {
     "name": "stdout",
     "output_type": "stream",
     "text": [
      "         pl_name st_spectype  sy_umag  sy_gmag  sy_rmag  sy_imag  sy_zmag\n",
      "0       11 Com b        <NA>      NaN      NaN      NaN      NaN      NaN\n",
      "1       11 Com b      G8 III      NaN      NaN      NaN      NaN      NaN\n",
      "2       11 Com b      G8 III      NaN      NaN      NaN      NaN      NaN\n",
      "3       11 UMi b        <NA>      NaN      NaN      NaN      NaN      NaN\n",
      "4       11 UMi b        <NA>      NaN      NaN      NaN      NaN      NaN\n",
      "...          ...         ...      ...      ...      ...      ...      ...\n",
      "35843  ups And d        <NA>      NaN      NaN      NaN      NaN      NaN\n",
      "35844  ups Leo b      G9 III      NaN      NaN      NaN      NaN      NaN\n",
      "35845   xi Aql b        <NA>      NaN      NaN      NaN      NaN      NaN\n",
      "35846   xi Aql b        <NA>      NaN      NaN      NaN      NaN      NaN\n",
      "35847   xi Aql b      K0 III      NaN      NaN      NaN      NaN      NaN\n",
      "\n",
      "[35848 rows x 7 columns]\n"
     ]
    }
   ],
   "source": [
    "import pandas as pd\n",
    "\n",
    "exoplanet_data = pd.read_csv('data/2024-03-01-exoplanet_dataset.csv', \n",
    "                             header = 13,\n",
    "                             dtype = {'pl_name' : 'string', 'st_spectype' : 'string'})\n",
    "print(exoplanet_data)"
   ]
  },
  {
   "cell_type": "markdown",
   "id": "1175f01e-7b22-43ae-abe0-63f209c8e751",
   "metadata": {},
   "source": [
    "This dataset from NASA's Exoplanet Archive include all planets and stars. Therefore we will wrangle the dataset such that it only contain stars with Sloan magnitudes for photometric measurements."
   ]
  },
  {
   "cell_type": "code",
   "execution_count": 22,
   "id": "e6f22b3a-024d-4aab-8454-48e3475d1ad1",
   "metadata": {},
   "outputs": [
    {
     "ename": "SyntaxError",
     "evalue": "invalid syntax (2297352337.py, line 8)",
     "output_type": "error",
     "traceback": [
      "\u001b[1;36m  Cell \u001b[1;32mIn[22], line 8\u001b[1;36m\u001b[0m\n\u001b[1;33m    only_stars_data['st_spectype'].transform(pd.Series.str.slice(.self, stop=1))\u001b[0m\n\u001b[1;37m                                                                 ^\u001b[0m\n\u001b[1;31mSyntaxError\u001b[0m\u001b[1;31m:\u001b[0m invalid syntax\n"
     ]
    }
   ],
   "source": [
    "only_stars_data = exoplanet_data.dropna(subset = ['st_spectype',\n",
    "                                                  'sy_umag',\n",
    "                                                  'sy_gmag',\n",
    "                                                  'sy_rmag',\n",
    "                                                  'sy_imag',\n",
    "                                                  'sy_zmag'])\n",
    "\n",
    "only_stars_data['st_spectype'].transform()\n",
    "print(only_stars_data)"
   ]
  },
  {
   "cell_type": "code",
   "execution_count": null,
   "id": "73611de9-bfae-447e-b4b2-55a56b68d2b8",
   "metadata": {},
   "outputs": [],
   "source": []
  }
 ],
 "metadata": {
  "kernelspec": {
   "display_name": "Python 3 (ipykernel)",
   "language": "python",
   "name": "python3"
  },
  "language_info": {
   "codemirror_mode": {
    "name": "ipython",
    "version": 3
   },
   "file_extension": ".py",
   "mimetype": "text/x-python",
   "name": "python",
   "nbconvert_exporter": "python",
   "pygments_lexer": "ipython3",
   "version": "3.12.2"
  }
 },
 "nbformat": 4,
 "nbformat_minor": 5
}
