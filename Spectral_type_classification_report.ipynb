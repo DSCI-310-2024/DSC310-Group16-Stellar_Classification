{
 "cells": [
  {
   "cell_type": "markdown",
   "id": "645f8fd4-3e6a-457b-a052-2c7fafb93b43",
   "metadata": {},
   "source": [
    "# Stellar Classification using Photometric data"
   ]
  },
  {
   "cell_type": "markdown",
   "id": "7f36831c",
   "metadata": {},
   "source": [
    "## Introduction"
   ]
  },
  {
   "cell_type": "markdown",
   "id": "b8a0b749",
   "metadata": {},
   "source": [
    "Current and future astronomical surveys will observe hundred of thousands of objects each year. Due to the massive amount of spectroscopic and photometric data produced, an automated stellar classification process has become important in the field of astronomy in the past few years.\n",
    "\n",
    "In astronomy, understanding the spectral characteristics of celestial objects serves as a fundamental pillar for unraveling the mysteries of the cosmos. Spectral classification, a cornerstone of astronomical research, enables us to discern the chemical composition, temperature, and evolutionary stage of stars, galaxies, and other celestial bodies. In the earliest days it was based on mass and temperature; however, our modern classification system has evolved and we classify stars based on the *Morgan–Keenan (MK)* system (Morgan et al. 1943) which group stars into 7 classes based on their spectral characteristics. Under the MK system, astronomers analyse electromagnetic radiation from stars to determine its class. These electromagnetic spectrum have dark lines to determine which and how abundant elements are present in the star. The 7 classes in the MK system - *O, B, A, F, G, K*, and *M* - are sequenced from the hottest (*O* type) to the coolest (*K* type) which also exhibits a certain characteristic that is very visible - colour. Hence in this report, we will classify stars using photometric data and in the Discussion section, we will evaluate whether this is a reliable alternative for the traditional method of comparing the best fit of the spectra to that of templates using statistical tests (Duan et al. 2009)."
   ]
  },
  {
   "cell_type": "markdown",
   "id": "a65ed360",
   "metadata": {},
   "source": [
    "## Definitions\n",
    "\n",
    "**Photometry**: the measurement of the flux or intensity of an astronomical object's electromagnetic radiation\n",
    "\n",
    "The photometric system we're using to classify star types is the *Sloan* system (add reference) used by the Sloan Digital Sky Survey. The system measures the intensity of electromagnetic radition from stars at 5 bands:\n",
    "- *u* (345nm)\n",
    "- *g* (475nm which is a light blue in the visible spectrum)\n",
    "- *r* (622nm which is orange)\n",
    "- *i* (763nm which is deep red)\n",
    "- *z* (905nm)"
   ]
  },
  {
   "cell_type": "markdown",
   "id": "d252c56e",
   "metadata": {},
   "source": [
    "# Methods & Results"
   ]
  },
  {
   "cell_type": "markdown",
   "id": "32b223da",
   "metadata": {},
   "source": [
    "## Data"
   ]
  },
  {
   "cell_type": "markdown",
   "id": "41d3d069",
   "metadata": {},
   "source": [
    "This report has made use of the NASA Exoplanet Archive, which is operated by the California Institute of Technology, under contract with the National Aeronautics and Space Administration under the Exoplanet Exploration Program. NASA Exoplanet Archive collects data from various sources, including ground-based observatories and space telescopes such as the Kepler Space Telescope and the Transiting Exoplanet Survey Satellite (TESS). The dataset is we're using is their [Planetary Systems dataset](https://exoplanetarchive.ipac.caltech.edu/cgi-bin/TblView/nph-tblView?app=ExoTbls&config=PS) which has the columns of names, spectral type and measurements using Sloan photometric system selected.\n",
    "\n",
    "The Python programming language (Van Rossum and Drake, 2009) and the following Python packages were used to perform the analysis: matplotlib (Hunter, 2007), scikit-learn (Pedregosa et al., 2011) and Pandas (McKinney, 2010)."
   ]
  },
  {
   "cell_type": "markdown",
   "id": "ebcf2006",
   "metadata": {},
   "source": [
    "## Imports\n",
    "First of all, let's import the packages we will use to carry out the analysis and download the dataset. \n",
    "For our analysis we primarily used `sklearn` and `pandas` for our classification analysis as well as `matplotlib` for our visualizations."
   ]
  },
  {
   "cell_type": "code",
   "execution_count": 7,
   "id": "d1544a50",
   "metadata": {},
   "outputs": [],
   "source": [
    "import pandas as pd\n",
    "from sklearn.linear_model import LogisticRegression\n",
    "from sklearn.pipeline import Pipeline, make_pipeline\n",
    "from sklearn.model_selection import cross_val_score, cross_validate, train_test_split\n",
    "from sklearn.ensemble import RandomForestClassifier\n",
    "from sklearn.metrics import accuracy_score\n",
    "from sklearn.compose import make_column_transformer\n",
    "from sklearn.preprocessing import StandardScaler\n",
    "import requests\n",
    "import os\n",
    "from datetime import datetime"
   ]
  },
  {
   "cell_type": "markdown",
   "id": "36be545d",
   "metadata": {},
   "source": [
    "## Reading the Dataset\n",
    "We then download the dataset of interest; the Expoplanet Systems dataset from NASA, containing information about measurements of planets and stars. We are interested in the spectral type of stars given a subset of these measurements."
   ]
  },
  {
   "cell_type": "code",
   "execution_count": 8,
   "id": "ebaec595-3591-4bb7-b64e-1eae0a936095",
   "metadata": {},
   "outputs": [
    {
     "name": "stdout",
     "output_type": "stream",
     "text": [
      "Downloading Planet Systems dataset from https://exoplanetarchive.ipac.caltech.edu/cgi-bin/IceTable/nph-iceTblDownload\n"
     ]
    },
    {
     "data": {
      "text/html": [
       "<div>\n",
       "<style scoped>\n",
       "    .dataframe tbody tr th:only-of-type {\n",
       "        vertical-align: middle;\n",
       "    }\n",
       "\n",
       "    .dataframe tbody tr th {\n",
       "        vertical-align: top;\n",
       "    }\n",
       "\n",
       "    .dataframe thead th {\n",
       "        text-align: right;\n",
       "    }\n",
       "</style>\n",
       "<table border=\"1\" class=\"dataframe\">\n",
       "  <thead>\n",
       "    <tr style=\"text-align: right;\">\n",
       "      <th></th>\n",
       "      <th>pl_name</th>\n",
       "      <th>st_spectype</th>\n",
       "      <th>sy_umag</th>\n",
       "      <th>sy_gmag</th>\n",
       "      <th>sy_rmag</th>\n",
       "      <th>sy_imag</th>\n",
       "      <th>sy_zmag</th>\n",
       "    </tr>\n",
       "  </thead>\n",
       "  <tbody>\n",
       "    <tr>\n",
       "      <th>0</th>\n",
       "      <td>11 Com b</td>\n",
       "      <td>&lt;NA&gt;</td>\n",
       "      <td>NaN</td>\n",
       "      <td>NaN</td>\n",
       "      <td>NaN</td>\n",
       "      <td>NaN</td>\n",
       "      <td>NaN</td>\n",
       "    </tr>\n",
       "    <tr>\n",
       "      <th>1</th>\n",
       "      <td>11 Com b</td>\n",
       "      <td>G8 III</td>\n",
       "      <td>NaN</td>\n",
       "      <td>NaN</td>\n",
       "      <td>NaN</td>\n",
       "      <td>NaN</td>\n",
       "      <td>NaN</td>\n",
       "    </tr>\n",
       "    <tr>\n",
       "      <th>2</th>\n",
       "      <td>11 Com b</td>\n",
       "      <td>G8 III</td>\n",
       "      <td>NaN</td>\n",
       "      <td>NaN</td>\n",
       "      <td>NaN</td>\n",
       "      <td>NaN</td>\n",
       "      <td>NaN</td>\n",
       "    </tr>\n",
       "    <tr>\n",
       "      <th>3</th>\n",
       "      <td>11 UMi b</td>\n",
       "      <td>&lt;NA&gt;</td>\n",
       "      <td>NaN</td>\n",
       "      <td>NaN</td>\n",
       "      <td>NaN</td>\n",
       "      <td>NaN</td>\n",
       "      <td>NaN</td>\n",
       "    </tr>\n",
       "    <tr>\n",
       "      <th>4</th>\n",
       "      <td>11 UMi b</td>\n",
       "      <td>&lt;NA&gt;</td>\n",
       "      <td>NaN</td>\n",
       "      <td>NaN</td>\n",
       "      <td>NaN</td>\n",
       "      <td>NaN</td>\n",
       "      <td>NaN</td>\n",
       "    </tr>\n",
       "    <tr>\n",
       "      <th>...</th>\n",
       "      <td>...</td>\n",
       "      <td>...</td>\n",
       "      <td>...</td>\n",
       "      <td>...</td>\n",
       "      <td>...</td>\n",
       "      <td>...</td>\n",
       "      <td>...</td>\n",
       "    </tr>\n",
       "    <tr>\n",
       "      <th>35843</th>\n",
       "      <td>ups And d</td>\n",
       "      <td>&lt;NA&gt;</td>\n",
       "      <td>NaN</td>\n",
       "      <td>NaN</td>\n",
       "      <td>NaN</td>\n",
       "      <td>NaN</td>\n",
       "      <td>NaN</td>\n",
       "    </tr>\n",
       "    <tr>\n",
       "      <th>35844</th>\n",
       "      <td>ups Leo b</td>\n",
       "      <td>G9 III</td>\n",
       "      <td>NaN</td>\n",
       "      <td>NaN</td>\n",
       "      <td>NaN</td>\n",
       "      <td>NaN</td>\n",
       "      <td>NaN</td>\n",
       "    </tr>\n",
       "    <tr>\n",
       "      <th>35845</th>\n",
       "      <td>xi Aql b</td>\n",
       "      <td>&lt;NA&gt;</td>\n",
       "      <td>NaN</td>\n",
       "      <td>NaN</td>\n",
       "      <td>NaN</td>\n",
       "      <td>NaN</td>\n",
       "      <td>NaN</td>\n",
       "    </tr>\n",
       "    <tr>\n",
       "      <th>35846</th>\n",
       "      <td>xi Aql b</td>\n",
       "      <td>&lt;NA&gt;</td>\n",
       "      <td>NaN</td>\n",
       "      <td>NaN</td>\n",
       "      <td>NaN</td>\n",
       "      <td>NaN</td>\n",
       "      <td>NaN</td>\n",
       "    </tr>\n",
       "    <tr>\n",
       "      <th>35847</th>\n",
       "      <td>xi Aql b</td>\n",
       "      <td>K0 III</td>\n",
       "      <td>NaN</td>\n",
       "      <td>NaN</td>\n",
       "      <td>NaN</td>\n",
       "      <td>NaN</td>\n",
       "      <td>NaN</td>\n",
       "    </tr>\n",
       "  </tbody>\n",
       "</table>\n",
       "<p>35848 rows × 7 columns</p>\n",
       "</div>"
      ],
      "text/plain": [
       "         pl_name st_spectype  sy_umag  sy_gmag  sy_rmag  sy_imag  sy_zmag\n",
       "0       11 Com b        <NA>      NaN      NaN      NaN      NaN      NaN\n",
       "1       11 Com b      G8 III      NaN      NaN      NaN      NaN      NaN\n",
       "2       11 Com b      G8 III      NaN      NaN      NaN      NaN      NaN\n",
       "3       11 UMi b        <NA>      NaN      NaN      NaN      NaN      NaN\n",
       "4       11 UMi b        <NA>      NaN      NaN      NaN      NaN      NaN\n",
       "...          ...         ...      ...      ...      ...      ...      ...\n",
       "35843  ups And d        <NA>      NaN      NaN      NaN      NaN      NaN\n",
       "35844  ups Leo b      G9 III      NaN      NaN      NaN      NaN      NaN\n",
       "35845   xi Aql b        <NA>      NaN      NaN      NaN      NaN      NaN\n",
       "35846   xi Aql b        <NA>      NaN      NaN      NaN      NaN      NaN\n",
       "35847   xi Aql b      K0 III      NaN      NaN      NaN      NaN      NaN\n",
       "\n",
       "[35848 rows x 7 columns]"
      ]
     },
     "execution_count": 8,
     "metadata": {},
     "output_type": "execute_result"
    }
   ],
   "source": [
    "current_date = datetime.now().date().strftime(\"%Y-%m-%d\")\n",
    "\n",
    "raw_data_dir = os.path.join(\"data\", \"raw\")\n",
    "raw_data_path = os.path.join(raw_data_dir, f\"{current_date}_planet-systems.csv\")\n",
    "\n",
    "# make directory where we store our raw data\n",
    "os.makedirs(raw_data_dir, exist_ok=True)\n",
    "\n",
    "# check if we already have the dataset downloaded\n",
    "if len(os.listdir(raw_data_dir)) != 0:\n",
    "    print(len(os.listdir(raw_data_dir)))\n",
    "    print(f\"Using already existing dataset under {raw_data_dir}\")\n",
    "else:\n",
    "    # download the raw data as CSV under the raw data directory\n",
    "    url = \"https://exoplanetarchive.ipac.caltech.edu/cgi-bin/IceTable/nph-iceTblDownload\"\n",
    "    print(f\"Downloading Planet Systems dataset from {url}\")\n",
    "\n",
    "    # define an HTTP request\n",
    "    payload = {\n",
    "        \"workspace\": \"2024.02.29_21.58.35_020450/TblView/2024.03.02_14.52.28_004142\",\n",
    "        \"useTimestamp\": \"1\",\n",
    "        \"table\": \"/exodata/kvmexoweb/ExoTables/PS.tbl\",\n",
    "        \"format\": \"CSV\",\n",
    "        \"user\": \"\",\n",
    "        \"label\": \"*\",\n",
    "        \"columns\": \"pl_name_display,st_spectype,sy_umagstr,sy_gmagstr,sy_rmagstr,sy_imagstr,sy_zmagstr\",\n",
    "        \"rows\": \"both\",\n",
    "        \"mission\": \"ExoplanetArchive\"\n",
    "    }\n",
    "    response = requests.get(url, params=payload)\n",
    "\n",
    "    # assume request was successfull and access the downloaded content    \n",
    "    raw_data = response.content\n",
    "\n",
    "    # write downloaded content into a file under the raw data directory\n",
    "    with open(raw_data_path, \"wb\") as f:\n",
    "        f.write(raw_data)\n",
    "\n",
    "# df holds the expolanet dataset as a DataFrame object\n",
    "df = pd.read_csv(\n",
    "    raw_data_path,\n",
    "    header = 23, # 24-1=23\n",
    "    dtype = {'pl_name' : 'string', 'st_spectype' : 'string'}\n",
    ")\n",
    "\n",
    "# remove columns in the dataset that have 'err' in their name\n",
    "filtered_columns = [col for col in df.columns if 'err' not in col]\n",
    "\n",
    "df = df[filtered_columns]\n",
    "\n",
    "df"
   ]
  },
  {
   "cell_type": "markdown",
   "id": "1175f01e-7b22-43ae-abe0-63f209c8e751",
   "metadata": {},
   "source": [
    "## Data EDA and Wrangling\n",
    "This dataset from NASA's Exoplanet Archive include all planets and stars. Therefore we will wrangle the dataset such that it only contain stars with Sloan magnitudes for photometric measurements."
   ]
  },
  {
   "cell_type": "code",
   "execution_count": 9,
   "id": "cc1eb6ca",
   "metadata": {
    "scrolled": true
   },
   "outputs": [
    {
     "data": {
      "text/html": [
       "<div>\n",
       "<style scoped>\n",
       "    .dataframe tbody tr th:only-of-type {\n",
       "        vertical-align: middle;\n",
       "    }\n",
       "\n",
       "    .dataframe tbody tr th {\n",
       "        vertical-align: top;\n",
       "    }\n",
       "\n",
       "    .dataframe thead th {\n",
       "        text-align: right;\n",
       "    }\n",
       "</style>\n",
       "<table border=\"1\" class=\"dataframe\">\n",
       "  <thead>\n",
       "    <tr style=\"text-align: right;\">\n",
       "      <th></th>\n",
       "      <th>pl_name</th>\n",
       "      <th>st_spectype</th>\n",
       "      <th>sy_umag</th>\n",
       "      <th>sy_gmag</th>\n",
       "      <th>sy_rmag</th>\n",
       "      <th>sy_imag</th>\n",
       "      <th>sy_zmag</th>\n",
       "    </tr>\n",
       "  </thead>\n",
       "  <tbody>\n",
       "    <tr>\n",
       "      <th>180</th>\n",
       "      <td>BD+20 2457 b</td>\n",
       "      <td>K</td>\n",
       "      <td>14.9129</td>\n",
       "      <td>10.5155</td>\n",
       "      <td>9.277390</td>\n",
       "      <td>8.84049</td>\n",
       "      <td>8.97784</td>\n",
       "    </tr>\n",
       "    <tr>\n",
       "      <th>182</th>\n",
       "      <td>BD+20 2457 c</td>\n",
       "      <td>K</td>\n",
       "      <td>14.9129</td>\n",
       "      <td>10.5155</td>\n",
       "      <td>9.277390</td>\n",
       "      <td>8.84049</td>\n",
       "      <td>8.97784</td>\n",
       "    </tr>\n",
       "    <tr>\n",
       "      <th>183</th>\n",
       "      <td>BD+20 274 b</td>\n",
       "      <td>K</td>\n",
       "      <td>14.3374</td>\n",
       "      <td>10.1863</td>\n",
       "      <td>8.941711</td>\n",
       "      <td>8.49228</td>\n",
       "      <td>8.90440</td>\n",
       "    </tr>\n",
       "    <tr>\n",
       "      <th>210</th>\n",
       "      <td>BD-17 63 b</td>\n",
       "      <td>K</td>\n",
       "      <td>14.1468</td>\n",
       "      <td>10.2994</td>\n",
       "      <td>9.211040</td>\n",
       "      <td>8.86964</td>\n",
       "      <td>9.00956</td>\n",
       "    </tr>\n",
       "    <tr>\n",
       "      <th>215</th>\n",
       "      <td>CD Cet b</td>\n",
       "      <td>M</td>\n",
       "      <td>17.4608</td>\n",
       "      <td>15.0603</td>\n",
       "      <td>13.949400</td>\n",
       "      <td>14.18480</td>\n",
       "      <td>13.29560</td>\n",
       "    </tr>\n",
       "    <tr>\n",
       "      <th>...</th>\n",
       "      <td>...</td>\n",
       "      <td>...</td>\n",
       "      <td>...</td>\n",
       "      <td>...</td>\n",
       "      <td>...</td>\n",
       "      <td>...</td>\n",
       "      <td>...</td>\n",
       "    </tr>\n",
       "    <tr>\n",
       "      <th>35641</th>\n",
       "      <td>XO-1 b</td>\n",
       "      <td>G</td>\n",
       "      <td>14.8365</td>\n",
       "      <td>11.7844</td>\n",
       "      <td>11.049500</td>\n",
       "      <td>10.86850</td>\n",
       "      <td>11.31440</td>\n",
       "    </tr>\n",
       "    <tr>\n",
       "      <th>35701</th>\n",
       "      <td>XO-5 b</td>\n",
       "      <td>G</td>\n",
       "      <td>15.3529</td>\n",
       "      <td>15.0080</td>\n",
       "      <td>11.988900</td>\n",
       "      <td>11.82070</td>\n",
       "      <td>13.65610</td>\n",
       "    </tr>\n",
       "    <tr>\n",
       "      <th>35702</th>\n",
       "      <td>XO-5 b</td>\n",
       "      <td>G</td>\n",
       "      <td>15.3529</td>\n",
       "      <td>15.0080</td>\n",
       "      <td>11.988900</td>\n",
       "      <td>11.82070</td>\n",
       "      <td>13.65610</td>\n",
       "    </tr>\n",
       "    <tr>\n",
       "      <th>35703</th>\n",
       "      <td>XO-5 b</td>\n",
       "      <td>G</td>\n",
       "      <td>15.3529</td>\n",
       "      <td>15.0080</td>\n",
       "      <td>11.988900</td>\n",
       "      <td>11.82070</td>\n",
       "      <td>13.65610</td>\n",
       "    </tr>\n",
       "    <tr>\n",
       "      <th>35704</th>\n",
       "      <td>XO-5 b</td>\n",
       "      <td>G</td>\n",
       "      <td>15.3529</td>\n",
       "      <td>15.0080</td>\n",
       "      <td>11.988900</td>\n",
       "      <td>11.82070</td>\n",
       "      <td>13.65610</td>\n",
       "    </tr>\n",
       "  </tbody>\n",
       "</table>\n",
       "<p>371 rows × 7 columns</p>\n",
       "</div>"
      ],
      "text/plain": [
       "            pl_name st_spectype  sy_umag  sy_gmag    sy_rmag   sy_imag  \\\n",
       "180    BD+20 2457 b           K  14.9129  10.5155   9.277390   8.84049   \n",
       "182    BD+20 2457 c           K  14.9129  10.5155   9.277390   8.84049   \n",
       "183     BD+20 274 b           K  14.3374  10.1863   8.941711   8.49228   \n",
       "210      BD-17 63 b           K  14.1468  10.2994   9.211040   8.86964   \n",
       "215        CD Cet b           M  17.4608  15.0603  13.949400  14.18480   \n",
       "...             ...         ...      ...      ...        ...       ...   \n",
       "35641        XO-1 b           G  14.8365  11.7844  11.049500  10.86850   \n",
       "35701        XO-5 b           G  15.3529  15.0080  11.988900  11.82070   \n",
       "35702        XO-5 b           G  15.3529  15.0080  11.988900  11.82070   \n",
       "35703        XO-5 b           G  15.3529  15.0080  11.988900  11.82070   \n",
       "35704        XO-5 b           G  15.3529  15.0080  11.988900  11.82070   \n",
       "\n",
       "        sy_zmag  \n",
       "180     8.97784  \n",
       "182     8.97784  \n",
       "183     8.90440  \n",
       "210     9.00956  \n",
       "215    13.29560  \n",
       "...         ...  \n",
       "35641  11.31440  \n",
       "35701  13.65610  \n",
       "35702  13.65610  \n",
       "35703  13.65610  \n",
       "35704  13.65610  \n",
       "\n",
       "[371 rows x 7 columns]"
      ]
     },
     "execution_count": 9,
     "metadata": {},
     "output_type": "execute_result"
    }
   ],
   "source": [
    "only_stars_data = df.dropna(\n",
    "    subset = [\n",
    "        'st_spectype',\n",
    "        'sy_umag',\n",
    "        'sy_gmag',\n",
    "        'sy_rmag',\n",
    "        'sy_imag',\n",
    "        'sy_zmag'\n",
    "    ]\n",
    ")\n",
    "\n",
    "# we are only interested in the first letter of spectral type, which becomes our y later\n",
    "only_stars_data_copy = only_stars_data.copy() # needed to avoid warning raised by pandas\n",
    "only_stars_data_copy[\"st_spectype\"] = only_stars_data_copy['st_spectype'].transform(lambda x: x[0])\n",
    "only_stars_data = only_stars_data_copy\n",
    "\n",
    "only_stars_data"
   ]
  },
  {
   "cell_type": "markdown",
   "id": "6b2947d6-a1fa-4cdd-97ed-5af9443c3efb",
   "metadata": {},
   "source": [
    "**Note**: \n",
    "In order to run classification models on our dataset, we had to remove the NA values from our magnitudes. We were planning to incorporate `SimpleImputer()` into our pipeline during data preprocessing, but about 2200 rows contained NA values, so we thought it was best to simply drop them. This explains the drastic decrease in observations."
   ]
  },
  {
   "cell_type": "markdown",
   "id": "d659f3fa",
   "metadata": {},
   "source": [
    "## Variables:\n",
    "\n",
    "`st_spectype`: Classification of the star based on their spectral characteristics following the Morgan-Keenan system\n",
    "\n",
    "`sy_umag`: Brightness of the host star as measured using the Sloan Digital Sky Survey (SDSS) u band, in units of magnitudes\n",
    "\n",
    "`sy_gmag`: Brightness of the host star as measured using the Sloan Digital Sky Survey (SDSS) g band, in units of magnitudes\n",
    "\n",
    "`sy_rmag`: Brightness of the host star as measured using the Sloan Digital Sky Survey (SDSS) r band, in units of magnitudes\n",
    "\n",
    "`sy_imag`: Brightness of the host star as measured using the Sloan Digital Sky Survey (SDSS) i band, in units of magnitudes\n",
    "\n",
    "`sy_zmag`: Brightness of the host star as measured using the Sloan Digital Sky Survey (SDSS) z band, in units of magnitudes"
   ]
  },
  {
   "cell_type": "markdown",
   "id": "5b0d4865-b724-499d-9b8e-b197efc60394",
   "metadata": {},
   "source": [
    "# Classification Analysis"
   ]
  },
  {
   "cell_type": "code",
   "execution_count": 10,
   "id": "7b907ed9",
   "metadata": {},
   "outputs": [
    {
     "data": {
      "text/html": [
       "<div>\n",
       "<style scoped>\n",
       "    .dataframe tbody tr th:only-of-type {\n",
       "        vertical-align: middle;\n",
       "    }\n",
       "\n",
       "    .dataframe tbody tr th {\n",
       "        vertical-align: top;\n",
       "    }\n",
       "\n",
       "    .dataframe thead th {\n",
       "        text-align: right;\n",
       "    }\n",
       "</style>\n",
       "<table border=\"1\" class=\"dataframe\">\n",
       "  <thead>\n",
       "    <tr style=\"text-align: right;\">\n",
       "      <th></th>\n",
       "      <th>pl_name</th>\n",
       "      <th>st_spectype</th>\n",
       "      <th>sy_umag</th>\n",
       "      <th>sy_gmag</th>\n",
       "      <th>sy_rmag</th>\n",
       "      <th>sy_imag</th>\n",
       "      <th>sy_zmag</th>\n",
       "    </tr>\n",
       "  </thead>\n",
       "  <tbody>\n",
       "    <tr>\n",
       "      <th>count</th>\n",
       "      <td>371</td>\n",
       "      <td>371</td>\n",
       "      <td>371.000000</td>\n",
       "      <td>371.000000</td>\n",
       "      <td>371.000000</td>\n",
       "      <td>371.000000</td>\n",
       "      <td>371.000000</td>\n",
       "    </tr>\n",
       "    <tr>\n",
       "      <th>unique</th>\n",
       "      <td>220</td>\n",
       "      <td>6</td>\n",
       "      <td>NaN</td>\n",
       "      <td>NaN</td>\n",
       "      <td>NaN</td>\n",
       "      <td>NaN</td>\n",
       "      <td>NaN</td>\n",
       "    </tr>\n",
       "    <tr>\n",
       "      <th>top</th>\n",
       "      <td>K2-3 c</td>\n",
       "      <td>M</td>\n",
       "      <td>NaN</td>\n",
       "      <td>NaN</td>\n",
       "      <td>NaN</td>\n",
       "      <td>NaN</td>\n",
       "      <td>NaN</td>\n",
       "    </tr>\n",
       "    <tr>\n",
       "      <th>freq</th>\n",
       "      <td>5</td>\n",
       "      <td>121</td>\n",
       "      <td>NaN</td>\n",
       "      <td>NaN</td>\n",
       "      <td>NaN</td>\n",
       "      <td>NaN</td>\n",
       "      <td>NaN</td>\n",
       "    </tr>\n",
       "    <tr>\n",
       "      <th>mean</th>\n",
       "      <td>NaN</td>\n",
       "      <td>NaN</td>\n",
       "      <td>16.052537</td>\n",
       "      <td>13.850186</td>\n",
       "      <td>12.706372</td>\n",
       "      <td>12.396249</td>\n",
       "      <td>12.437584</td>\n",
       "    </tr>\n",
       "    <tr>\n",
       "      <th>std</th>\n",
       "      <td>NaN</td>\n",
       "      <td>NaN</td>\n",
       "      <td>1.558657</td>\n",
       "      <td>1.846257</td>\n",
       "      <td>1.743469</td>\n",
       "      <td>1.726103</td>\n",
       "      <td>1.457525</td>\n",
       "    </tr>\n",
       "    <tr>\n",
       "      <th>min</th>\n",
       "      <td>NaN</td>\n",
       "      <td>NaN</td>\n",
       "      <td>13.093200</td>\n",
       "      <td>9.912880</td>\n",
       "      <td>8.463130</td>\n",
       "      <td>7.750550</td>\n",
       "      <td>7.763190</td>\n",
       "    </tr>\n",
       "    <tr>\n",
       "      <th>25%</th>\n",
       "      <td>NaN</td>\n",
       "      <td>NaN</td>\n",
       "      <td>15.098200</td>\n",
       "      <td>12.489000</td>\n",
       "      <td>11.674600</td>\n",
       "      <td>11.389700</td>\n",
       "      <td>11.905000</td>\n",
       "    </tr>\n",
       "    <tr>\n",
       "      <th>50%</th>\n",
       "      <td>NaN</td>\n",
       "      <td>NaN</td>\n",
       "      <td>15.550900</td>\n",
       "      <td>13.770300</td>\n",
       "      <td>12.570600</td>\n",
       "      <td>12.151500</td>\n",
       "      <td>12.839400</td>\n",
       "    </tr>\n",
       "    <tr>\n",
       "      <th>75%</th>\n",
       "      <td>NaN</td>\n",
       "      <td>NaN</td>\n",
       "      <td>16.504950</td>\n",
       "      <td>15.231100</td>\n",
       "      <td>13.725700</td>\n",
       "      <td>13.481150</td>\n",
       "      <td>13.303600</td>\n",
       "    </tr>\n",
       "    <tr>\n",
       "      <th>max</th>\n",
       "      <td>NaN</td>\n",
       "      <td>NaN</td>\n",
       "      <td>21.297500</td>\n",
       "      <td>18.729600</td>\n",
       "      <td>16.860000</td>\n",
       "      <td>17.911200</td>\n",
       "      <td>17.025900</td>\n",
       "    </tr>\n",
       "  </tbody>\n",
       "</table>\n",
       "</div>"
      ],
      "text/plain": [
       "       pl_name st_spectype     sy_umag     sy_gmag     sy_rmag     sy_imag  \\\n",
       "count      371         371  371.000000  371.000000  371.000000  371.000000   \n",
       "unique     220           6         NaN         NaN         NaN         NaN   \n",
       "top     K2-3 c           M         NaN         NaN         NaN         NaN   \n",
       "freq         5         121         NaN         NaN         NaN         NaN   \n",
       "mean       NaN         NaN   16.052537   13.850186   12.706372   12.396249   \n",
       "std        NaN         NaN    1.558657    1.846257    1.743469    1.726103   \n",
       "min        NaN         NaN   13.093200    9.912880    8.463130    7.750550   \n",
       "25%        NaN         NaN   15.098200   12.489000   11.674600   11.389700   \n",
       "50%        NaN         NaN   15.550900   13.770300   12.570600   12.151500   \n",
       "75%        NaN         NaN   16.504950   15.231100   13.725700   13.481150   \n",
       "max        NaN         NaN   21.297500   18.729600   16.860000   17.911200   \n",
       "\n",
       "           sy_zmag  \n",
       "count   371.000000  \n",
       "unique         NaN  \n",
       "top            NaN  \n",
       "freq           NaN  \n",
       "mean     12.437584  \n",
       "std       1.457525  \n",
       "min       7.763190  \n",
       "25%      11.905000  \n",
       "50%      12.839400  \n",
       "75%      13.303600  \n",
       "max      17.025900  "
      ]
     },
     "execution_count": 10,
     "metadata": {},
     "output_type": "execute_result"
    }
   ],
   "source": [
    "only_stars_data.describe(include=\"all\")"
   ]
  },
  {
   "cell_type": "code",
   "execution_count": 11,
   "id": "442ca11f",
   "metadata": {},
   "outputs": [],
   "source": [
    "# We will be trying to predict what st_spectype a star has\n",
    "y = only_stars_data[\"st_spectype\"]\n",
    "\n",
    "# Our predictors will be the following 5 features\n",
    "X = only_stars_data[[\"sy_umag\", \"sy_gmag\", \"sy_rmag\", \"sy_imag\", \"sy_zmag\"]]\n",
    "\n",
    "# Creating a 75% train test split to run on our data\n",
    "X_train, X_test, y_train, y_test = train_test_split(X, y, \n",
    "                                                    test_size=0.75, \n",
    "                                                    random_state=123)\n"
   ]
  },
  {
   "cell_type": "code",
   "execution_count": 12,
   "id": "7ea013a4",
   "metadata": {},
   "outputs": [
    {
     "data": {
      "text/plain": [
       "st_spectype\n",
       "G    0.336957\n",
       "M    0.326087\n",
       "K    0.293478\n",
       "F    0.043478\n",
       "Name: proportion, dtype: float64"
      ]
     },
     "execution_count": 12,
     "metadata": {},
     "output_type": "execute_result"
    }
   ],
   "source": [
    "y_train.value_counts(normalize=True)"
   ]
  },
  {
   "cell_type": "markdown",
   "id": "3c4ef3b6",
   "metadata": {},
   "source": [
    "We have a pretty spread out class with no major class imbalance."
   ]
  },
  {
   "cell_type": "code",
   "execution_count": 13,
   "id": "8bb382c2",
   "metadata": {},
   "outputs": [],
   "source": [
    "# Scaling our numerical data\n",
    "star_preprocessor = make_column_transformer(\n",
    "    (StandardScaler(), X)\n",
    ")\n",
    "\n",
    "#SHOULD WE DELETE THIS?"
   ]
  },
  {
   "cell_type": "markdown",
   "id": "fc945e0e-918b-475c-8ffe-dfe41d7c080a",
   "metadata": {},
   "source": []
  },
  {
   "cell_type": "code",
   "execution_count": 14,
   "id": "1d2942cb",
   "metadata": {},
   "outputs": [
    {
     "name": "stderr",
     "output_type": "stream",
     "text": [
      "/Applications/miniconda3/lib/python3.11/site-packages/sklearn/model_selection/_split.py:737: UserWarning: The least populated class in y has only 4 members, which is less than n_splits=5.\n",
      "  warnings.warn(\n"
     ]
    },
    {
     "data": {
      "text/plain": [
       "fit_time       0.012516\n",
       "score_time     0.003075\n",
       "test_score     0.693567\n",
       "train_score    0.752647\n",
       "dtype: float64"
      ]
     },
     "execution_count": 14,
     "metadata": {},
     "output_type": "execute_result"
    }
   ],
   "source": [
    "# Logistic Regression cross validation\n",
    "pipe = make_pipeline(StandardScaler(), LogisticRegression())\n",
    "pd.DataFrame(cross_validate(pipe, X_train, y_train, return_train_score=True)).mean()"
   ]
  },
  {
   "cell_type": "code",
   "execution_count": 18,
   "id": "73611de9-bfae-447e-b4b2-55a56b68d2b8",
   "metadata": {},
   "outputs": [
    {
     "name": "stderr",
     "output_type": "stream",
     "text": [
      "/Applications/miniconda3/lib/python3.11/site-packages/sklearn/model_selection/_split.py:737: UserWarning: The least populated class in y has only 1 members, which is less than n_splits=5.\n",
      "  warnings.warn(\n"
     ]
    },
    {
     "name": "stdout",
     "output_type": "stream",
     "text": [
      "Mean cross validation score: 0.6551351351351351\n"
     ]
    },
    {
     "name": "stderr",
     "output_type": "stream",
     "text": [
      "/Applications/miniconda3/lib/python3.11/site-packages/sklearn/base.py:486: UserWarning: X has feature names, but RandomForestClassifier was fitted without feature names\n",
      "  warnings.warn(\n",
      "/Applications/miniconda3/lib/python3.11/site-packages/sklearn/model_selection/_split.py:737: UserWarning: The least populated class in y has only 4 members, which is less than n_splits=5.\n",
      "  warnings.warn(\n"
     ]
    },
    {
     "name": "stdout",
     "output_type": "stream",
     "text": [
      "Accuracy: 0.32616487455197135\n"
     ]
    },
    {
     "data": {
      "text/plain": [
       "fit_time       0.296160\n",
       "score_time     0.010103\n",
       "test_score     0.750292\n",
       "train_score    0.989115\n",
       "dtype: float64"
      ]
     },
     "execution_count": 18,
     "metadata": {},
     "output_type": "execute_result"
    }
   ],
   "source": [
    "# RandomForest Classifier\n",
    "rfc = RandomForestClassifier(n_estimators=275, random_state=123)\n",
    "pipe2 = make_pipeline(StandardScaler(), rfc)\n",
    "\n",
    "# Calculate mean cross_val_score score of test scores\n",
    "cv_results = cross_val_score(pipe2, X, y, cv=5, scoring='accuracy')\n",
    "print(\"Mean cross validation score:\", cv_results.mean())\n",
    "\n",
    "# We are fitting our classifier to our dataset\n",
    "pipe2.fit(X_train, y_train)\n",
    "\n",
    "# Calculating the accuracy of our predictions made on the test set\n",
    "predictions = rfc.predict(X_test)\n",
    "accuracy = accuracy_score(y_test, predictions)\n",
    "print(\"Accuracy:\", accuracy)\n",
    "\n",
    "pd.DataFrame(cross_validate(pipe2, X_train, y_train, return_train_score=True)).mean()"
   ]
  },
  {
   "cell_type": "markdown",
   "id": "d433bd12-5c4e-412b-80ac-ffa189458c5d",
   "metadata": {},
   "source": [
    "Ultimately from our validation scores, we achieve a much higher test score from our scaled data with the `RandomForestClassifier` model of 0.750 compared to `LogisticRegression` model of 0.694. However our accuracy score is quite low at 0.326."
   ]
  },
  {
   "cell_type": "markdown",
   "id": "f0b8fe3a-b8b7-4a1d-8909-1b2152793e16",
   "metadata": {},
   "source": [
    "# Discussion"
   ]
  },
  {
   "cell_type": "markdown",
   "id": "168a2cc7-d183-4d3f-90cc-136bea8a4c07",
   "metadata": {},
   "source": [
    "Our model yielded pretty average results with final overall accuracy of **0.74**. This model is not good enough for an automated stellar classification process. In addition, our model can only classify stars into 4 classes due to the limited sample size. However these 4 classes make up about 99.8% of stellar population so being unable to classify stars into remaining 3 classes isn't as big of an issue. In order to improve this model, a larger sample size would help like using the Sloan Digital Sky Survey dataset instead. Another way to improve the model is to explore other classification methods such as k nearest neighbours. Finally, using another photometric system such as UBV could help since the bands are more seperated resulting in larger difference in magnitudes between star classes.\n",
    "\n",
    "Although this model isn't quite good enough for automated stellar classification for large astronomical survey, the initial model worked quite well classifying the most common 4 types of stars. More research into other classification methods could most likely yield higher accuracy."
   ]
  },
  {
   "cell_type": "markdown",
   "id": "10c52ea8-68d3-4c0c-973b-c246e04b2c67",
   "metadata": {},
   "source": [
    "# References"
   ]
  },
  {
   "cell_type": "markdown",
   "id": "33500da6-a9d5-4037-9bb9-461b3f2f121c",
   "metadata": {},
   "source": [
    "- Morgan, W. W., Keenan, P. C., & Kellman, E. (1942). An atlas of stellar spectra. University of Chicago.\n",
    "- Duan, F. Q., Liu, R., Guo, P., Zhou, M. Q., & Wu, F. C. (2009). Automated spectral classification using template matching. Research in Astronomy and Astrophysics, 9(3), 341.\n",
    "- Van Rossum, G., & Drake Jr, F. L. (1995). Python tutorial (Vol. 620). Amsterdam, The Netherlands: Centrum voor Wiskunde en Informatica.\n",
    "- Hunter, J. D. (2007). Matplotlib: A 2D graphics environment. Computing in science & engineering, 9(03), 90-95.\n",
    "- Pedregosa, F., Varoquaux, G., Gramfort, A., Michel, V., Thirion, B., Grisel, O., ... & Duchesnay, É. (2011). Scikit-learn: Machine learning in Python. the Journal of machine Learning research, 12, 2825-2830.\n",
    "- McKinney, W. (2010, June). Data structures for statistical computing in python. In Proceedings of the 9th Python in Science Conference (Vol. 445, No. 1, pp. 51-56).\n",
    "- Ledrew, G. (2001). The real starry sky. Journal of the Royal Astronomical Society of Canada, Vol. 95, p. 32, 95, 32."
   ]
  },
  {
   "cell_type": "code",
   "execution_count": null,
   "id": "af900587-a114-43f6-9f49-96ef72e19498",
   "metadata": {},
   "outputs": [],
   "source": []
  }
 ],
 "metadata": {
  "kernelspec": {
   "display_name": "Python 3 (ipykernel)",
   "language": "python",
   "name": "python3"
  },
  "language_info": {
   "codemirror_mode": {
    "name": "ipython",
    "version": 3
   },
   "file_extension": ".py",
   "mimetype": "text/x-python",
   "name": "python",
   "nbconvert_exporter": "python",
   "pygments_lexer": "ipython3",
   "version": "3.11.8"
  }
 },
 "nbformat": 4,
 "nbformat_minor": 5
}
