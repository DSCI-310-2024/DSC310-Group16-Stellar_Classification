{
 "cells": [
  {
   "cell_type": "markdown",
   "id": "645f8fd4-3e6a-457b-a052-2c7fafb93b43",
   "metadata": {},
   "source": [
    "# Stellar Classification using Photometric data"
   ]
  },
  {
   "cell_type": "markdown",
   "id": "6404f4f1-d37c-4982-98fe-d5153d5746de",
   "metadata": {},
   "source": [
    "# Summary"
   ]
  },
  {
   "cell_type": "markdown",
   "id": "5b0d4865-b724-499d-9b8e-b197efc60394",
   "metadata": {},
   "source": [
    "# Introduction"
   ]
  },
  {
   "cell_type": "markdown",
   "id": "742164d2-31e8-456a-83e8-fa7a33602483",
   "metadata": {},
   "source": [
    "In astronomy, it is useful to classify stars based on certain characteristics. In the earliest days it was based on mass and temperature; however, our modern classification system has evolved and we classify stars based on the *Morgan–Keenan (MK)* system which group stars into 7 classes based on their spectral characteristics. Under the MK system, astronomers analyse electromagnetic radiation from stars to determine its class. These electromagnetic spectrum have dark lines to determine which and how abundant elements are present in the star. The 7 classes in the MK system - *O, B, A, F, G, K*, and *M* - are sequenced from the hottest (*O* type) to the coolest (*K* type) which also exhibits a certain characteristic that is very visible - colour. Hence in this report, we will classify stars using photometric data and in the Discussion section, we will evaluate whether this is a reliable alternative for the traditional method."
   ]
  },
  {
   "cell_type": "markdown",
   "id": "31cd9007-95e3-4f0e-b5c3-cd196d3692b6",
   "metadata": {},
   "source": [
    "## Definitions\n",
    "\n",
    "**Photometry**: the measurement of the flux or intensity of an astronomical object's electromagnetic radiation\n",
    "\n",
    "The photometric system we're using to classify star types is the *Sloan* system (add reference) used by the Sloan Digital Sky Survey. The system measures the intensity of electromagnetic radition from stars at 5 bands:\n",
    "- *u* (345nm)\n",
    "- *g* (475nm which is a light blue in the visible spectrum)\n",
    "- *r* (622nm which is orange)\n",
    "- *i* (763nm which is deep red)\n",
    "- *z* (905nm)"
   ]
  },
  {
   "cell_type": "markdown",
   "id": "b1cdca11-7269-4a86-a9a1-bd296aca4001",
   "metadata": {},
   "source": [
    "NASA Exoplanet Archive collects data from various sources, including ground-based observatories and space telescopes such as the Kepler Space Telescope and the Transiting Exoplanet Survey Satellite (TESS). The dataset is we're using is their [Planetary Systems dataset](https://exoplanetarchive.ipac.caltech.edu/cgi-bin/TblView/nph-tblView?app=ExoTbls&config=PS) which has the columns of names, spectral type and measurements using Sloan photometric system selected."
   ]
  },
  {
   "cell_type": "markdown",
   "id": "43c640f1-fb78-41c1-9b3d-178d92900d0c",
   "metadata": {},
   "source": [
    "# Methods & Results"
   ]
  },
  {
   "cell_type": "code",
   "execution_count": 1,
   "id": "ebaec595-3591-4bb7-b64e-1eae0a936095",
   "metadata": {},
   "outputs": [
    {
     "name": "stdout",
     "output_type": "stream",
     "text": [
      "         pl_name st_spectype  sy_umag  sy_gmag  sy_rmag  sy_imag  sy_zmag\n",
      "0       11 Com b        <NA>      NaN      NaN      NaN      NaN      NaN\n",
      "1       11 Com b      G8 III      NaN      NaN      NaN      NaN      NaN\n",
      "2       11 Com b      G8 III      NaN      NaN      NaN      NaN      NaN\n",
      "3       11 UMi b        <NA>      NaN      NaN      NaN      NaN      NaN\n",
      "4       11 UMi b        <NA>      NaN      NaN      NaN      NaN      NaN\n",
      "...          ...         ...      ...      ...      ...      ...      ...\n",
      "35843  ups And d        <NA>      NaN      NaN      NaN      NaN      NaN\n",
      "35844  ups Leo b      G9 III      NaN      NaN      NaN      NaN      NaN\n",
      "35845   xi Aql b        <NA>      NaN      NaN      NaN      NaN      NaN\n",
      "35846   xi Aql b        <NA>      NaN      NaN      NaN      NaN      NaN\n",
      "35847   xi Aql b      K0 III      NaN      NaN      NaN      NaN      NaN\n",
      "\n",
      "[35848 rows x 7 columns]\n"
     ]
    }
   ],
   "source": [
    "import pandas as pd\n",
    "import matplotlib.pyplot as plt\n",
    "\n",
    "exoplanet_data = pd.read_csv('data/2024-03-01-exoplanet_dataset.csv', \n",
    "                             header = 13,\n",
    "                             dtype = {'pl_name' : 'string', 'st_spectype' : 'string'})\n",
    "print(exoplanet_data)"
   ]
  },
  {
   "cell_type": "markdown",
   "id": "1175f01e-7b22-43ae-abe0-63f209c8e751",
   "metadata": {},
   "source": [
    "This dataset from NASA's Exoplanet Archive include all planets and stars. Therefore we will wrangle the dataset such that it only contain stars with Sloan magnitudes for photometric measurements."
   ]
  },
  {
   "cell_type": "code",
   "execution_count": 2,
   "id": "e6f22b3a-024d-4aab-8454-48e3475d1ad1",
   "metadata": {},
   "outputs": [
    {
     "name": "stderr",
     "output_type": "stream",
     "text": [
      "C:\\Users\\VietNgo\\AppData\\Local\\Temp\\ipykernel_53776\\818944062.py:7: SettingWithCopyWarning: \n",
      "A value is trying to be set on a copy of a slice from a DataFrame.\n",
      "Try using .loc[row_indexer,col_indexer] = value instead\n",
      "\n",
      "See the caveats in the documentation: https://pandas.pydata.org/pandas-docs/stable/user_guide/indexing.html#returning-a-view-versus-a-copy\n",
      "  stars_data[\"st_spectype\"] = stars_data['st_spectype'].transform(lambda x: x[0].upper())\n",
      "C:\\Users\\VietNgo\\AppData\\Local\\Temp\\ipykernel_53776\\818944062.py:9: SettingWithCopyWarning: \n",
      "A value is trying to be set on a copy of a slice from a DataFrame.\n",
      "Try using .loc[row_indexer,col_indexer] = value instead\n",
      "\n",
      "See the caveats in the documentation: https://pandas.pydata.org/pandas-docs/stable/user_guide/indexing.html#returning-a-view-versus-a-copy\n",
      "  only_stars_data[\"st_spectype\"] = only_stars_data[\"st_spectype\"].astype(\"category\")\n"
     ]
    },
    {
     "data": {
      "text/html": [
       "<div>\n",
       "<style scoped>\n",
       "    .dataframe tbody tr th:only-of-type {\n",
       "        vertical-align: middle;\n",
       "    }\n",
       "\n",
       "    .dataframe tbody tr th {\n",
       "        vertical-align: top;\n",
       "    }\n",
       "\n",
       "    .dataframe thead th {\n",
       "        text-align: right;\n",
       "    }\n",
       "</style>\n",
       "<table border=\"1\" class=\"dataframe\">\n",
       "  <thead>\n",
       "    <tr style=\"text-align: center;\">\n",
       "      <th></th>\n",
       "      <th>pl_name</th>\n",
       "      <th>st_spectype</th>\n",
       "      <th>sy_umag</th>\n",
       "      <th>sy_gmag</th>\n",
       "      <th>sy_rmag</th>\n",
       "      <th>sy_imag</th>\n",
       "      <th>sy_zmag</th>\n",
       "    </tr>\n",
       "  </thead>\n",
       "  <tbody>\n",
       "    <tr>\n",
       "      <th>180</th>\n",
       "      <td>BD+20 2457 b</td>\n",
       "      <td>K</td>\n",
       "      <td>14.913</td>\n",
       "      <td>10.515</td>\n",
       "      <td>9.277</td>\n",
       "      <td>8.840</td>\n",
       "      <td>8.978</td>\n",
       "    </tr>\n",
       "    <tr>\n",
       "      <th>182</th>\n",
       "      <td>BD+20 2457 c</td>\n",
       "      <td>K</td>\n",
       "      <td>14.913</td>\n",
       "      <td>10.515</td>\n",
       "      <td>9.277</td>\n",
       "      <td>8.840</td>\n",
       "      <td>8.978</td>\n",
       "    </tr>\n",
       "    <tr>\n",
       "      <th>183</th>\n",
       "      <td>BD+20 274 b</td>\n",
       "      <td>K</td>\n",
       "      <td>14.337</td>\n",
       "      <td>10.186</td>\n",
       "      <td>8.942</td>\n",
       "      <td>8.492</td>\n",
       "      <td>8.904</td>\n",
       "    </tr>\n",
       "    <tr>\n",
       "      <th>...</th>\n",
       "      <td>...</td>\n",
       "      <td>...</td>\n",
       "      <td>...</td>\n",
       "      <td>...</td>\n",
       "      <td>...</td>\n",
       "      <td>...</td>\n",
       "      <td>...</td>\n",
       "    </tr>\n",
       "    <tr>\n",
       "      <th>35702</th>\n",
       "      <td>XO-5 b</td>\n",
       "      <td>G</td>\n",
       "      <td>15.353</td>\n",
       "      <td>15.008</td>\n",
       "      <td>11.989</td>\n",
       "      <td>11.821</td>\n",
       "      <td>13.656</td>\n",
       "    </tr>\n",
       "    <tr>\n",
       "      <th>35703</th>\n",
       "      <td>XO-5 b</td>\n",
       "      <td>G</td>\n",
       "      <td>15.353</td>\n",
       "      <td>15.008</td>\n",
       "      <td>11.989</td>\n",
       "      <td>11.821</td>\n",
       "      <td>13.656</td>\n",
       "    </tr>\n",
       "    <tr>\n",
       "      <th>35704</th>\n",
       "      <td>XO-5 b</td>\n",
       "      <td>G</td>\n",
       "      <td>15.353</td>\n",
       "      <td>15.008</td>\n",
       "      <td>11.989</td>\n",
       "      <td>11.821</td>\n",
       "      <td>13.656</td>\n",
       "    </tr>\n",
       "  </tbody>\n",
       "</table>\n",
       "<p>369 rows × 7 columns</p>\n",
       "</div>"
      ],
      "text/plain": [
       "         pl_name    st_spectype  sy_umag  sy_gmag  sy_rmag  sy_imag  sy_zmag\n",
       "180    BD+20 2457 b       K      14.913   10.515    9.277    8.840    8.978 \n",
       "182    BD+20 2457 c       K      14.913   10.515    9.277    8.840    8.978 \n",
       "183     BD+20 274 b       K      14.337   10.186    8.942    8.492    8.904 \n",
       "...             ...         ...      ...      ...      ...      ...      ...\n",
       "35702        XO-5 b       G      15.353   15.008   11.989   11.821   13.656 \n",
       "35703        XO-5 b       G      15.353   15.008   11.989   11.821   13.656 \n",
       "35704        XO-5 b       G      15.353   15.008   11.989   11.821   13.656 \n",
       "\n",
       "[369 rows x 7 columns]"
      ]
     },
     "metadata": {},
     "output_type": "display_data"
    }
   ],
   "source": [
    "stars_data = exoplanet_data.dropna(subset = ['st_spectype',\n",
    "                                                  'sy_umag',\n",
    "                                                  'sy_gmag',\n",
    "                                                  'sy_rmag',\n",
    "                                                  'sy_imag',\n",
    "                                                  'sy_zmag'])\n",
    "stars_data[\"st_spectype\"] = stars_data['st_spectype'].transform(lambda x: x[0].upper())\n",
    "only_stars_data = stars_data.loc[stars_data['st_spectype'].isin(['O','B', 'A', 'F', 'G', 'K', 'M'])]\n",
    "only_stars_data[\"st_spectype\"] = only_stars_data[\"st_spectype\"].astype(\"category\")\n",
    "\n",
    "with pd.option_context('display.max_rows', 6,\n",
    "                       'display.max_columns', None,\n",
    "                       'display.width', 1000,\n",
    "                       'display.precision', 3,\n",
    "                       'display.colheader_justify', 'center'):\n",
    "    display(only_stars_data)"
   ]
  },
  {
   "cell_type": "markdown",
   "id": "00cfbf63-7dd7-4b67-9c97-5fcd97a69e52",
   "metadata": {},
   "source": [
    "## Exploratory Data Analysis"
   ]
  },
  {
   "cell_type": "code",
   "execution_count": 3,
   "id": "c4f9f0fe-3620-4ada-8e6f-c72233901c9a",
   "metadata": {},
   "outputs": [
    {
     "data": {
      "image/png": "[encoded data removed]",
      "text/plain": [
       "<Figure size 640x480 with 1 Axes>"
      ]
     },
     "metadata": {},
     "output_type": "display_data"
    }
   ],
   "source": [
    "types_summ = pd.DataFrame(only_stars_data[\"st_spectype\"].value_counts())\n",
    "\n",
    "fig, ax = plt.subplots(1, 1)\n",
    "types_summ.plot.bar(xlabel = 'Stellar classification', title=\"Counts of type of stars\", ax=ax)\n",
    "\n",
    "for col in types_summ.columns:\n",
    "    for id, val in enumerate(types_summ[col]):\n",
    "        ax.text(id, val, str(val))"
   ]
  },
  {
   "cell_type": "markdown",
   "id": "a046f7bb-9092-499d-81d4-08ead1253c41",
   "metadata": {},
   "source": [
    "There are only 4 classes of stars, *M*, *K*, *G*, *F*, with Sloan magnitudes in our datasets so our classification model can only classify stars into these 4 classes. Most of the stars fall within *M*, *K* and *G* classes"
   ]
  }
 ],
 "metadata": {
  "kernelspec": {
   "display_name": "Python 3 (ipykernel)",
   "language": "python",
   "name": "python3"
  },
  "language_info": {
   "codemirror_mode": {
    "name": "ipython",
    "version": 3
   },
   "file_extension": ".py",
   "mimetype": "text/x-python",
   "name": "python",
   "nbconvert_exporter": "python",
   "pygments_lexer": "ipython3",
   "version": "3.12.2"
  }
 },
 "nbformat": 4,
 "nbformat_minor": 5
}
