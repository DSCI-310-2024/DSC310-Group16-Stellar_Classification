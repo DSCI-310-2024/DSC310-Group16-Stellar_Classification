{
 "cells": [
  {
   "cell_type": "markdown",
   "id": "645f8fd4-3e6a-457b-a052-2c7fafb93b43",
   "metadata": {},
   "source": [
    "# Stellar Classification using Photometric data"
   ]
  },
  {
   "cell_type": "markdown",
   "id": "0112ac36-e6e1-431f-9907-d535c163aa0d",
   "metadata": {},
   "source": [
    "# Summary"
   ]
  },
  {
   "cell_type": "markdown",
   "id": "0d1e1f1d-dd6c-4b3b-80ce-1c540688cc22",
   "metadata": {},
   "source": [
    "In this report, we attempt to build a classification model using logistic regression which uses photometric measurements from telescopes to classify stars under the Morgan-Keenan system. Our final classifier performed poorly with final accuracy of **0.326** on testing data set with a tendency to classify stars as one class cooler than its actual class type. Our model can only classify stars into 4 main classes due to the small sample size. It is recommended that further study using larger sample sizes and methods to improve the classification model."
   ]
  },
  {
   "cell_type": "markdown",
   "id": "5b0d4865-b724-499d-9b8e-b197efc60394",
   "metadata": {},
   "source": [
    "# Introduction"
   ]
  },
  {
   "cell_type": "markdown",
   "id": "ebcf2006",
   "metadata": {},
   "source": [
    "\n",
    "\n",
    "Current and future astronomical surveys will observe hundred of thousands of objects each year. Due to the massive amount of spectroscopic and photometric data produced, an automated stellar classification process has become important in the field of astronomy in the past few years.\n",
    "\n",
    "In astronomy, understanding the spectral characteristics of celestial objects serves as a fundamental pillar for unraveling the mysteries of the cosmos. Spectral classification, a cornerstone of astronomical research, enables us to discern the chemical composition, temperature, and evolutionary stage of stars, galaxies, and other celestial bodies. In the earliest days it was based on mass and temperature; however, our modern classification system has evolved and we classify stars based on the Morgan–Keenan (MK) system (Morgan et al. 1943) which group stars into 7 classes based on their spectral characteristics. Under the MK system, astronomers analyse electromagnetic radiation from stars to determine its class. These electromagnetic spectrum have dark lines to determine which and how abundant elements are present in the star. The 7 classes in the MK system - O, B, A, F, G, K, and M - are sequenced from the hottest (O type) to the coolest (K type) which also exhibits a certain characteristic that is very visible - colour. Hence in this report, we will classify stars using photometric data and in the Discussion section, we will evaluate whether this is a reliable alternative for the traditional method of comparing the best fit of the spectra to that of templates using statistical tests (Duan et al. 2009).\n"
   ]
  },
  {
   "cell_type": "markdown",
   "id": "31cd9007-95e3-4f0e-b5c3-cd196d3692b6",
   "metadata": {},
   "source": [
    "### Definitions\n",
    "\n",
    "**Photometry**: the measurement of the flux or intensity of an astronomical object's electromagnetic radiation\n",
    "\n",
    "The photometric system we're using to classify star types is the *Sloan* system (add reference) used by the Sloan Digital Sky Survey. The system measures the intensity of electromagnetic radition from stars at 5 bands:\n",
    "- *u* (345nm)\n",
    "- *g* (475nm which is a light blue in the visible spectrum)\n",
    "- *r* (622nm which is orange)\n",
    "- *i* (763nm which is deep red)\n",
    "- *z* (905nm)"
   ]
  },
  {
   "cell_type": "markdown",
   "id": "d252c56e",
   "metadata": {},
   "source": [
    "# Methods & Results"
   ]
  },
  {
   "cell_type": "markdown",
   "id": "32b223da",
   "metadata": {},
   "source": [
    "## Data"
   ]
  },
  {
   "cell_type": "markdown",
   "id": "41d3d069",
   "metadata": {},
   "source": [
    "This report has made use of the NASA Exoplanet Archive, which is operated by the California Institute of Technology, under contract with the National Aeronautics and Space Administration under the Exoplanet Exploration Program. NASA Exoplanet Archive collects data from various sources, including ground-based observatories and space telescopes such as the Kepler Space Telescope and the Transiting Exoplanet Survey Satellite (TESS). The dataset is we're using is their [Planetary Systems dataset](https://exoplanetarchive.ipac.caltech.edu/cgi-bin/TblView/nph-tblView?app=ExoTbls&config=PS) which has the columns of names, spectral type and measurements using Sloan photometric system selected.\n",
    "\n",
    "The Python programming language (Van Rossum and Drake, 2009) and the following Python packages were used to perform the analysis: matplotlib (Hunter, 2007), scikit-learn (Pedregosa et al., 2011) and Pandas (McKinney, 2010)."
   ]
  },
  {
   "cell_type": "markdown",
   "id": "7528ae21",
   "metadata": {},
   "source": [
    "\n",
    "### Imports\n",
    "\n",
    "First of all, let's import the packages we will use to carry out the analysis and download the dataset. For our analysis we primarily used sklearn and pandas for our classification analysis as well as matplotlib for our visualizations.\n"
   ]
  },
  {
   "cell_type": "code",
   "execution_count": 10,
   "id": "d1544a50",
   "metadata": {},
   "outputs": [],
   "source": [
    "import pandas as pd\n",
    "import requests\n",
    "import os\n",
    "from datetime import datetime\n",
    "from sklearn.linear_model import LogisticRegression\n",
    "from sklearn.pipeline import Pipeline, make_pipeline\n",
    "from sklearn.model_selection import cross_val_score, cross_validate, train_test_split\n",
    "from sklearn.ensemble import RandomForestClassifier\n",
    "from sklearn.metrics import accuracy_score\n",
    "from sklearn.compose import make_column_transformer\n",
    "from sklearn.preprocessing import StandardScaler\n",
    "from sklearn.metrics import ConfusionMatrixDisplay\n",
    "import matplotlib.pyplot as plt"
   ]
  },
  {
   "cell_type": "markdown",
   "id": "36be545d",
   "metadata": {},
   "source": [
    "\n",
    "### Reading the Dataset\n",
    "\n",
    "We then download the dataset of interest; the Expoplanet Systems dataset from NASA, containing information about measurements of planets and stars. We are interested in the spectral type of stars given a subset of these measurements.\n"
   ]
  },
  {
   "cell_type": "code",
   "execution_count": 11,
   "id": "ebaec595-3591-4bb7-b64e-1eae0a936095",
   "metadata": {},
   "outputs": [
    {
     "name": "stdout",
     "output_type": "stream",
     "text": [
      "1\n",
      "Using already existing dataset under data\\raw\n"
     ]
    },
    {
     "data": {
      "text/html": [
       "<div>\n",
       "<style scoped>\n",
       "    .dataframe tbody tr th:only-of-type {\n",
       "        vertical-align: middle;\n",
       "    }\n",
       "\n",
       "    .dataframe tbody tr th {\n",
       "        vertical-align: top;\n",
       "    }\n",
       "\n",
       "    .dataframe thead th {\n",
       "        text-align: right;\n",
       "    }\n",
       "</style>\n",
       "<table border=\"1\" class=\"dataframe\">\n",
       "  <thead>\n",
       "    <tr style=\"text-align: right;\">\n",
       "      <th></th>\n",
       "      <th>pl_name</th>\n",
       "      <th>st_spectype</th>\n",
       "      <th>sy_umag</th>\n",
       "      <th>sy_gmag</th>\n",
       "      <th>sy_rmag</th>\n",
       "      <th>sy_imag</th>\n",
       "      <th>sy_zmag</th>\n",
       "    </tr>\n",
       "  </thead>\n",
       "  <tbody>\n",
       "    <tr>\n",
       "      <th>0</th>\n",
       "      <td>11 Com b</td>\n",
       "      <td>&lt;NA&gt;</td>\n",
       "      <td>NaN</td>\n",
       "      <td>NaN</td>\n",
       "      <td>NaN</td>\n",
       "      <td>NaN</td>\n",
       "      <td>NaN</td>\n",
       "    </tr>\n",
       "    <tr>\n",
       "      <th>1</th>\n",
       "      <td>11 Com b</td>\n",
       "      <td>G8 III</td>\n",
       "      <td>NaN</td>\n",
       "      <td>NaN</td>\n",
       "      <td>NaN</td>\n",
       "      <td>NaN</td>\n",
       "      <td>NaN</td>\n",
       "    </tr>\n",
       "    <tr>\n",
       "      <th>2</th>\n",
       "      <td>11 Com b</td>\n",
       "      <td>G8 III</td>\n",
       "      <td>NaN</td>\n",
       "      <td>NaN</td>\n",
       "      <td>NaN</td>\n",
       "      <td>NaN</td>\n",
       "      <td>NaN</td>\n",
       "    </tr>\n",
       "    <tr>\n",
       "      <th>3</th>\n",
       "      <td>11 UMi b</td>\n",
       "      <td>&lt;NA&gt;</td>\n",
       "      <td>NaN</td>\n",
       "      <td>NaN</td>\n",
       "      <td>NaN</td>\n",
       "      <td>NaN</td>\n",
       "      <td>NaN</td>\n",
       "    </tr>\n",
       "    <tr>\n",
       "      <th>4</th>\n",
       "      <td>11 UMi b</td>\n",
       "      <td>&lt;NA&gt;</td>\n",
       "      <td>NaN</td>\n",
       "      <td>NaN</td>\n",
       "      <td>NaN</td>\n",
       "      <td>NaN</td>\n",
       "      <td>NaN</td>\n",
       "    </tr>\n",
       "    <tr>\n",
       "      <th>...</th>\n",
       "      <td>...</td>\n",
       "      <td>...</td>\n",
       "      <td>...</td>\n",
       "      <td>...</td>\n",
       "      <td>...</td>\n",
       "      <td>...</td>\n",
       "      <td>...</td>\n",
       "    </tr>\n",
       "    <tr>\n",
       "      <th>35843</th>\n",
       "      <td>ups And d</td>\n",
       "      <td>&lt;NA&gt;</td>\n",
       "      <td>NaN</td>\n",
       "      <td>NaN</td>\n",
       "      <td>NaN</td>\n",
       "      <td>NaN</td>\n",
       "      <td>NaN</td>\n",
       "    </tr>\n",
       "    <tr>\n",
       "      <th>35844</th>\n",
       "      <td>ups Leo b</td>\n",
       "      <td>G9 III</td>\n",
       "      <td>NaN</td>\n",
       "      <td>NaN</td>\n",
       "      <td>NaN</td>\n",
       "      <td>NaN</td>\n",
       "      <td>NaN</td>\n",
       "    </tr>\n",
       "    <tr>\n",
       "      <th>35845</th>\n",
       "      <td>xi Aql b</td>\n",
       "      <td>&lt;NA&gt;</td>\n",
       "      <td>NaN</td>\n",
       "      <td>NaN</td>\n",
       "      <td>NaN</td>\n",
       "      <td>NaN</td>\n",
       "      <td>NaN</td>\n",
       "    </tr>\n",
       "    <tr>\n",
       "      <th>35846</th>\n",
       "      <td>xi Aql b</td>\n",
       "      <td>&lt;NA&gt;</td>\n",
       "      <td>NaN</td>\n",
       "      <td>NaN</td>\n",
       "      <td>NaN</td>\n",
       "      <td>NaN</td>\n",
       "      <td>NaN</td>\n",
       "    </tr>\n",
       "    <tr>\n",
       "      <th>35847</th>\n",
       "      <td>xi Aql b</td>\n",
       "      <td>K0 III</td>\n",
       "      <td>NaN</td>\n",
       "      <td>NaN</td>\n",
       "      <td>NaN</td>\n",
       "      <td>NaN</td>\n",
       "      <td>NaN</td>\n",
       "    </tr>\n",
       "  </tbody>\n",
       "</table>\n",
       "<p>35848 rows × 7 columns</p>\n",
       "</div>"
      ],
      "text/plain": [
       "         pl_name st_spectype  sy_umag  sy_gmag  sy_rmag  sy_imag  sy_zmag\n",
       "0       11 Com b        <NA>      NaN      NaN      NaN      NaN      NaN\n",
       "1       11 Com b      G8 III      NaN      NaN      NaN      NaN      NaN\n",
       "2       11 Com b      G8 III      NaN      NaN      NaN      NaN      NaN\n",
       "3       11 UMi b        <NA>      NaN      NaN      NaN      NaN      NaN\n",
       "4       11 UMi b        <NA>      NaN      NaN      NaN      NaN      NaN\n",
       "...          ...         ...      ...      ...      ...      ...      ...\n",
       "35843  ups And d        <NA>      NaN      NaN      NaN      NaN      NaN\n",
       "35844  ups Leo b      G9 III      NaN      NaN      NaN      NaN      NaN\n",
       "35845   xi Aql b        <NA>      NaN      NaN      NaN      NaN      NaN\n",
       "35846   xi Aql b        <NA>      NaN      NaN      NaN      NaN      NaN\n",
       "35847   xi Aql b      K0 III      NaN      NaN      NaN      NaN      NaN\n",
       "\n",
       "[35848 rows x 7 columns]"
      ]
     },
     "execution_count": 11,
     "metadata": {},
     "output_type": "execute_result"
    }
   ],
   "source": [
    "current_date = datetime.now().date().strftime(\"%Y-%m-%d\")\n",
    "\n",
    "raw_data_dir = os.path.join(\"data\", \"raw\")\n",
    "raw_data_path = os.path.join(raw_data_dir, f\"{current_date}_planet-systems.csv\")\n",
    "\n",
    "# make directory where we store our raw data\n",
    "os.makedirs(raw_data_dir, exist_ok=True)\n",
    "\n",
    "# check if we already have the dataset downloaded\n",
    "if len(os.listdir(raw_data_dir)) != 0:\n",
    "    print(len(os.listdir(raw_data_dir)))\n",
    "    print(f\"Using already existing dataset under {raw_data_dir}\")\n",
    "else:\n",
    "    # download the raw data as CSV under the raw data directory\n",
    "    url = \"https://exoplanetarchive.ipac.caltech.edu/cgi-bin/IceTable/nph-iceTblDownload\"\n",
    "    print(f\"Downloading Planet Systems dataset from {url}\")\n",
    "\n",
    "    # define an HTTP request\n",
    "    payload = {\n",
    "        \"workspace\": \"2024.02.29_21.58.35_020450/TblView/2024.03.02_14.52.28_004142\",\n",
    "        \"useTimestamp\": \"1\",\n",
    "        \"table\": \"/exodata/kvmexoweb/ExoTables/PS.tbl\",\n",
    "        \"format\": \"CSV\",\n",
    "        \"user\": \"\",\n",
    "        \"label\": \"*\",\n",
    "        \"columns\": \"pl_name_display,st_spectype,sy_umagstr,sy_gmagstr,sy_rmagstr,sy_imagstr,sy_zmagstr\",\n",
    "        \"rows\": \"both\",\n",
    "        \"mission\": \"ExoplanetArchive\"\n",
    "    }\n",
    "    response = requests.get(url, params=payload)\n",
    "\n",
    "    # assume request was successfull and access the downloaded content    \n",
    "    raw_data = response.content\n",
    "\n",
    "    # write downloaded content into a file under the raw data directory\n",
    "    with open(raw_data_path, \"wb\") as f:\n",
    "        f.write(raw_data)\n",
    "\n",
    "# df holds the expolanet dataset as a DataFrame object\n",
    "df = pd.read_csv(\n",
    "    raw_data_path,\n",
    "    header = 23, # 24-1=23\n",
    "    dtype = {'pl_name' : 'string', 'st_spectype' : 'string'}\n",
    ")\n",
    "\n",
    "# remove columns in the dataset that have 'err' in their name\n",
    "filtered_columns = [col for col in df.columns if 'err' not in col]\n",
    "\n",
    "exoplanet_data = df[filtered_columns]\n",
    "\n",
    "exoplanet_data"
   ]
  },
  {
   "cell_type": "markdown",
   "id": "1175f01e-7b22-43ae-abe0-63f209c8e751",
   "metadata": {},
   "source": [
    "\n",
    "### Data EDA and Wrangling\n",
    "\n",
    "This dataset from NASA's Exoplanet Archive include all planets and stars. Therefore we will wrangle the dataset such that it only contain stars with Sloan magnitudes for photometric measurements.\n"
   ]
  },
  {
   "cell_type": "code",
   "execution_count": 12,
   "id": "e6f22b3a-024d-4aab-8454-48e3475d1ad1",
   "metadata": {},
   "outputs": [
    {
     "data": {
      "text/plain": [
       "<bound method DataFrame.info of             pl_name st_spectype  sy_umag  sy_gmag    sy_rmag   sy_imag  \\\n",
       "180    BD+20 2457 b       K2 II  14.9129  10.5155   9.277390   8.84049   \n",
       "182    BD+20 2457 c       K2 II  14.9129  10.5155   9.277390   8.84049   \n",
       "183     BD+20 274 b      K5 III  14.3374  10.1863   8.941711   8.49228   \n",
       "210      BD-17 63 b        K5 V  14.1468  10.2994   9.211040   8.86964   \n",
       "215        CD Cet b      M5.0 V  17.4608  15.0603  13.949400  14.18480   \n",
       "...             ...         ...      ...      ...        ...       ...   \n",
       "35641        XO-1 b        G1 V  14.8365  11.7844  11.049500  10.86850   \n",
       "35701        XO-5 b        G8 V  15.3529  15.0080  11.988900  11.82070   \n",
       "35702        XO-5 b        G8 V  15.3529  15.0080  11.988900  11.82070   \n",
       "35703        XO-5 b        G8 V  15.3529  15.0080  11.988900  11.82070   \n",
       "35704        XO-5 b        G8 V  15.3529  15.0080  11.988900  11.82070   \n",
       "\n",
       "        sy_zmag  \n",
       "180     8.97784  \n",
       "182     8.97784  \n",
       "183     8.90440  \n",
       "210     9.00956  \n",
       "215    13.29560  \n",
       "...         ...  \n",
       "35641  11.31440  \n",
       "35701  13.65610  \n",
       "35702  13.65610  \n",
       "35703  13.65610  \n",
       "35704  13.65610  \n",
       "\n",
       "[371 rows x 7 columns]>"
      ]
     },
     "execution_count": 12,
     "metadata": {},
     "output_type": "execute_result"
    }
   ],
   "source": [
    "# pre-process data\n",
    "only_stars_data = exoplanet_data.dropna(subset = ['st_spectype',\n",
    "                                                  'sy_umag',\n",
    "                                                  'sy_gmag',\n",
    "                                                  'sy_rmag',\n",
    "                                                  'sy_imag',\n",
    "                                                  'sy_zmag'])\n",
    "only_stars_data.info"
   ]
  },
  {
   "cell_type": "code",
   "execution_count": 13,
   "id": "cc1eb6ca",
   "metadata": {
    "scrolled": true
   },
   "outputs": [
    {
     "data": {
      "text/html": [
       "<div>\n",
       "<style scoped>\n",
       "    .dataframe tbody tr th:only-of-type {\n",
       "        vertical-align: middle;\n",
       "    }\n",
       "\n",
       "    .dataframe tbody tr th {\n",
       "        vertical-align: top;\n",
       "    }\n",
       "\n",
       "    .dataframe thead th {\n",
       "        text-align: right;\n",
       "    }\n",
       "</style>\n",
       "<table border=\"1\" class=\"dataframe\">\n",
       "  <thead>\n",
       "    <tr style=\"text-align: right;\">\n",
       "      <th></th>\n",
       "      <th>pl_name</th>\n",
       "      <th>st_spectype</th>\n",
       "      <th>sy_umag</th>\n",
       "      <th>sy_gmag</th>\n",
       "      <th>sy_rmag</th>\n",
       "      <th>sy_imag</th>\n",
       "      <th>sy_zmag</th>\n",
       "    </tr>\n",
       "  </thead>\n",
       "  <tbody>\n",
       "    <tr>\n",
       "      <th>180</th>\n",
       "      <td>BD+20 2457 b</td>\n",
       "      <td>K</td>\n",
       "      <td>14.9129</td>\n",
       "      <td>10.5155</td>\n",
       "      <td>9.277390</td>\n",
       "      <td>8.84049</td>\n",
       "      <td>8.97784</td>\n",
       "    </tr>\n",
       "    <tr>\n",
       "      <th>182</th>\n",
       "      <td>BD+20 2457 c</td>\n",
       "      <td>K</td>\n",
       "      <td>14.9129</td>\n",
       "      <td>10.5155</td>\n",
       "      <td>9.277390</td>\n",
       "      <td>8.84049</td>\n",
       "      <td>8.97784</td>\n",
       "    </tr>\n",
       "    <tr>\n",
       "      <th>183</th>\n",
       "      <td>BD+20 274 b</td>\n",
       "      <td>K</td>\n",
       "      <td>14.3374</td>\n",
       "      <td>10.1863</td>\n",
       "      <td>8.941711</td>\n",
       "      <td>8.49228</td>\n",
       "      <td>8.90440</td>\n",
       "    </tr>\n",
       "    <tr>\n",
       "      <th>210</th>\n",
       "      <td>BD-17 63 b</td>\n",
       "      <td>K</td>\n",
       "      <td>14.1468</td>\n",
       "      <td>10.2994</td>\n",
       "      <td>9.211040</td>\n",
       "      <td>8.86964</td>\n",
       "      <td>9.00956</td>\n",
       "    </tr>\n",
       "    <tr>\n",
       "      <th>215</th>\n",
       "      <td>CD Cet b</td>\n",
       "      <td>M</td>\n",
       "      <td>17.4608</td>\n",
       "      <td>15.0603</td>\n",
       "      <td>13.949400</td>\n",
       "      <td>14.18480</td>\n",
       "      <td>13.29560</td>\n",
       "    </tr>\n",
       "    <tr>\n",
       "      <th>...</th>\n",
       "      <td>...</td>\n",
       "      <td>...</td>\n",
       "      <td>...</td>\n",
       "      <td>...</td>\n",
       "      <td>...</td>\n",
       "      <td>...</td>\n",
       "      <td>...</td>\n",
       "    </tr>\n",
       "    <tr>\n",
       "      <th>35641</th>\n",
       "      <td>XO-1 b</td>\n",
       "      <td>G</td>\n",
       "      <td>14.8365</td>\n",
       "      <td>11.7844</td>\n",
       "      <td>11.049500</td>\n",
       "      <td>10.86850</td>\n",
       "      <td>11.31440</td>\n",
       "    </tr>\n",
       "    <tr>\n",
       "      <th>35701</th>\n",
       "      <td>XO-5 b</td>\n",
       "      <td>G</td>\n",
       "      <td>15.3529</td>\n",
       "      <td>15.0080</td>\n",
       "      <td>11.988900</td>\n",
       "      <td>11.82070</td>\n",
       "      <td>13.65610</td>\n",
       "    </tr>\n",
       "    <tr>\n",
       "      <th>35702</th>\n",
       "      <td>XO-5 b</td>\n",
       "      <td>G</td>\n",
       "      <td>15.3529</td>\n",
       "      <td>15.0080</td>\n",
       "      <td>11.988900</td>\n",
       "      <td>11.82070</td>\n",
       "      <td>13.65610</td>\n",
       "    </tr>\n",
       "    <tr>\n",
       "      <th>35703</th>\n",
       "      <td>XO-5 b</td>\n",
       "      <td>G</td>\n",
       "      <td>15.3529</td>\n",
       "      <td>15.0080</td>\n",
       "      <td>11.988900</td>\n",
       "      <td>11.82070</td>\n",
       "      <td>13.65610</td>\n",
       "    </tr>\n",
       "    <tr>\n",
       "      <th>35704</th>\n",
       "      <td>XO-5 b</td>\n",
       "      <td>G</td>\n",
       "      <td>15.3529</td>\n",
       "      <td>15.0080</td>\n",
       "      <td>11.988900</td>\n",
       "      <td>11.82070</td>\n",
       "      <td>13.65610</td>\n",
       "    </tr>\n",
       "  </tbody>\n",
       "</table>\n",
       "<p>368 rows × 7 columns</p>\n",
       "</div>"
      ],
      "text/plain": [
       "            pl_name st_spectype  sy_umag  sy_gmag    sy_rmag   sy_imag  \\\n",
       "180    BD+20 2457 b           K  14.9129  10.5155   9.277390   8.84049   \n",
       "182    BD+20 2457 c           K  14.9129  10.5155   9.277390   8.84049   \n",
       "183     BD+20 274 b           K  14.3374  10.1863   8.941711   8.49228   \n",
       "210      BD-17 63 b           K  14.1468  10.2994   9.211040   8.86964   \n",
       "215        CD Cet b           M  17.4608  15.0603  13.949400  14.18480   \n",
       "...             ...         ...      ...      ...        ...       ...   \n",
       "35641        XO-1 b           G  14.8365  11.7844  11.049500  10.86850   \n",
       "35701        XO-5 b           G  15.3529  15.0080  11.988900  11.82070   \n",
       "35702        XO-5 b           G  15.3529  15.0080  11.988900  11.82070   \n",
       "35703        XO-5 b           G  15.3529  15.0080  11.988900  11.82070   \n",
       "35704        XO-5 b           G  15.3529  15.0080  11.988900  11.82070   \n",
       "\n",
       "        sy_zmag  \n",
       "180     8.97784  \n",
       "182     8.97784  \n",
       "183     8.90440  \n",
       "210     9.00956  \n",
       "215    13.29560  \n",
       "...         ...  \n",
       "35641  11.31440  \n",
       "35701  13.65610  \n",
       "35702  13.65610  \n",
       "35703  13.65610  \n",
       "35704  13.65610  \n",
       "\n",
       "[368 rows x 7 columns]"
      ]
     },
     "execution_count": 13,
     "metadata": {},
     "output_type": "execute_result"
    }
   ],
   "source": [
    "# we are only interested in the first letter of spectral type, which becomes our y later\n",
    "only_stars_data_copy = only_stars_data.copy() # needed to avoid warning raised by pandas\n",
    "only_stars_data_copy[\"st_spectype\"] = only_stars_data_copy['st_spectype'].transform(lambda x: x[0])\n",
    "only_stars_data_copy = only_stars_data_copy.loc[only_stars_data_copy['st_spectype'].isin(['O','B', 'A', 'F', 'G', 'K', 'M'])]\n",
    "only_stars_data_copy[\"st_spectype\"] = only_stars_data_copy[\"st_spectype\"].astype(\"category\")\n",
    "only_stars_data = only_stars_data_copy\n",
    "\n",
    "only_stars_data"
   ]
  },
  {
   "cell_type": "markdown",
   "id": "6b2947d6-a1fa-4cdd-97ed-5af9443c3efb",
   "metadata": {},
   "source": [
    "**Note**: \n",
    "In order to run classification models on our dataset, we had to remove the NA values from our magnitudes. We were planning to incorporate `SimpleImputer()` into our pipeline during data preprocessing, but about 2200 rows contained NA values, so we thought it was best to simply drop them. This explains the drastic decrease in observations."
   ]
  },
  {
   "cell_type": "markdown",
   "id": "d659f3fa",
   "metadata": {},
   "source": [
    "### Variables:\n",
    "\n",
    "`st_spectype`: Classification of the star based on their spectral characteristics following the Morgan-Keenan system\n",
    "\n",
    "`sy_umag`: Brightness of the host star as measured using the Sloan Digital Sky Survey (SDSS) u band, in units of magnitudes\n",
    "\n",
    "`sy_gmag`: Brightness of the host star as measured using the Sloan Digital Sky Survey (SDSS) g band, in units of magnitudes\n",
    "\n",
    "`sy_rmag`: Brightness of the host star as measured using the Sloan Digital Sky Survey (SDSS) r band, in units of magnitudes\n",
    "\n",
    "`sy_imag`: Brightness of the host star as measured using the Sloan Digital Sky Survey (SDSS) i band, in units of magnitudes\n",
    "\n",
    "`sy_zmag`: Brightness of the host star as measured using the Sloan Digital Sky Survey (SDSS) z band, in units of magnitudes"
   ]
  },
  {
   "cell_type": "code",
   "execution_count": 22,
   "id": "6d081523-9506-4ffe-9ff6-8488ff379f27",
   "metadata": {},
   "outputs": [
    {
     "data": {
      "image/png": "[encoded data removed]",
      "text/plain": [
       "<Figure size 640x480 with 1 Axes>"
      ]
     },
     "metadata": {},
     "output_type": "display_data"
    }
   ],
   "source": [
    "types_summ = pd.DataFrame(only_stars_data[\"st_spectype\"].value_counts())\n",
    "\n",
    "fig, ax = plt.subplots(1, 1)\n",
    "types_summ.plot.bar(xlabel = 'Stellar classification', title=\"Counts of type of stars\", ax=ax)\n",
    "\n",
    "for col in types_summ.columns:\n",
    "    for id, val in enumerate(types_summ[col]):\n",
    "        ax.text(id, val, str(val))"
   ]
  },
  {
   "cell_type": "code",
   "execution_count": 29,
   "id": "ccb53fd2-373f-4c65-a8d1-d5f40c51cc84",
   "metadata": {},
   "outputs": [
    {
     "name": "stderr",
     "output_type": "stream",
     "text": [
      "C:\\Users\\VietNgo\\AppData\\Local\\Temp\\ipykernel_76144\\3357755374.py:1: FutureWarning: The default of observed=False is deprecated and will be changed to True in a future version of pandas. Pass observed=False to retain current behavior or observed=True to adopt the future default and silence this warning.\n",
      "  display(only_stars_data[['st_spectype', 'sy_umag']].groupby('st_spectype').describe())\n"
     ]
    },
    {
     "data": {
      "text/html": [
       "<div>\n",
       "<style scoped>\n",
       "    .dataframe tbody tr th:only-of-type {\n",
       "        vertical-align: middle;\n",
       "    }\n",
       "\n",
       "    .dataframe tbody tr th {\n",
       "        vertical-align: top;\n",
       "    }\n",
       "\n",
       "    .dataframe thead tr th {\n",
       "        text-align: left;\n",
       "    }\n",
       "\n",
       "    .dataframe thead tr:last-of-type th {\n",
       "        text-align: right;\n",
       "    }\n",
       "</style>\n",
       "<table border=\"1\" class=\"dataframe\">\n",
       "  <thead>\n",
       "    <tr>\n",
       "      <th></th>\n",
       "      <th colspan=\"8\" halign=\"left\">sy_umag</th>\n",
       "    </tr>\n",
       "    <tr>\n",
       "      <th></th>\n",
       "      <th>count</th>\n",
       "      <th>mean</th>\n",
       "      <th>std</th>\n",
       "      <th>min</th>\n",
       "      <th>25%</th>\n",
       "      <th>50%</th>\n",
       "      <th>75%</th>\n",
       "      <th>max</th>\n",
       "    </tr>\n",
       "    <tr>\n",
       "      <th>st_spectype</th>\n",
       "      <th></th>\n",
       "      <th></th>\n",
       "      <th></th>\n",
       "      <th></th>\n",
       "      <th></th>\n",
       "      <th></th>\n",
       "      <th></th>\n",
       "      <th></th>\n",
       "    </tr>\n",
       "  </thead>\n",
       "  <tbody>\n",
       "    <tr>\n",
       "      <th>F</th>\n",
       "      <td>38.0</td>\n",
       "      <td>15.006642</td>\n",
       "      <td>0.766401</td>\n",
       "      <td>13.7542</td>\n",
       "      <td>14.7063</td>\n",
       "      <td>14.8961</td>\n",
       "      <td>15.233200</td>\n",
       "      <td>17.9494</td>\n",
       "    </tr>\n",
       "    <tr>\n",
       "      <th>G</th>\n",
       "      <td>101.0</td>\n",
       "      <td>15.187605</td>\n",
       "      <td>0.517554</td>\n",
       "      <td>13.9531</td>\n",
       "      <td>15.0087</td>\n",
       "      <td>15.1660</td>\n",
       "      <td>15.486200</td>\n",
       "      <td>16.9794</td>\n",
       "    </tr>\n",
       "    <tr>\n",
       "      <th>K</th>\n",
       "      <td>108.0</td>\n",
       "      <td>15.638826</td>\n",
       "      <td>0.853421</td>\n",
       "      <td>13.0932</td>\n",
       "      <td>15.0413</td>\n",
       "      <td>15.6091</td>\n",
       "      <td>15.845975</td>\n",
       "      <td>17.9905</td>\n",
       "    </tr>\n",
       "    <tr>\n",
       "      <th>M</th>\n",
       "      <td>121.0</td>\n",
       "      <td>17.467183</td>\n",
       "      <td>1.812482</td>\n",
       "      <td>14.5112</td>\n",
       "      <td>15.7198</td>\n",
       "      <td>17.2832</td>\n",
       "      <td>19.189500</td>\n",
       "      <td>21.2975</td>\n",
       "    </tr>\n",
       "  </tbody>\n",
       "</table>\n",
       "</div>"
      ],
      "text/plain": [
       "            sy_umag                                                  \\\n",
       "              count       mean       std      min      25%      50%   \n",
       "st_spectype                                                           \n",
       "F              38.0  15.006642  0.766401  13.7542  14.7063  14.8961   \n",
       "G             101.0  15.187605  0.517554  13.9531  15.0087  15.1660   \n",
       "K             108.0  15.638826  0.853421  13.0932  15.0413  15.6091   \n",
       "M             121.0  17.467183  1.812482  14.5112  15.7198  17.2832   \n",
       "\n",
       "                                 \n",
       "                   75%      max  \n",
       "st_spectype                      \n",
       "F            15.233200  17.9494  \n",
       "G            15.486200  16.9794  \n",
       "K            15.845975  17.9905  \n",
       "M            19.189500  21.2975  "
      ]
     },
     "metadata": {},
     "output_type": "display_data"
    },
    {
     "name": "stderr",
     "output_type": "stream",
     "text": [
      "C:\\Users\\VietNgo\\AppData\\Local\\Temp\\ipykernel_76144\\3357755374.py:3: FutureWarning: The default of observed=False is deprecated and will be changed to True in a future version of pandas. Pass observed=False to retain current behavior or observed=True to adopt the future default and silence this warning.\n",
      "  only_stars_data[['st_spectype', 'sy_umag']].groupby('st_spectype').boxplot()\n"
     ]
    },
    {
     "data": {
      "text/plain": [
       "F         Axes(0.1,0.559091;0.363636x0.340909)\n",
       "G    Axes(0.536364,0.559091;0.363636x0.340909)\n",
       "K             Axes(0.1,0.15;0.363636x0.340909)\n",
       "M        Axes(0.536364,0.15;0.363636x0.340909)\n",
       "dtype: object"
      ]
     },
     "execution_count": 29,
     "metadata": {},
     "output_type": "execute_result"
    },
    {
     "data": {
      "image/png": "[encoded data removed]",
      "text/plain": [
       "<Figure size 640x480 with 4 Axes>"
      ]
     },
     "metadata": {},
     "output_type": "display_data"
    }
   ],
   "source": [
    "display(only_stars_data[['st_spectype', 'sy_umag']].groupby('st_spectype').describe())\n",
    "\n",
    "only_stars_data[['st_spectype', 'sy_umag']].groupby('st_spectype').boxplot()"
   ]
  },
  {
   "cell_type": "markdown",
   "id": "967cfb05-d460-423a-91df-f715e337a3df",
   "metadata": {},
   "source": [
    "For *M*-class of stars, the magnitude of the *u*-band is much higher than the remaining classes at 17.3 at the median."
   ]
  },
  {
   "cell_type": "code",
   "execution_count": 30,
   "id": "fa2b7b2d-b792-4342-8b96-267ed7d16c51",
   "metadata": {},
   "outputs": [
    {
     "name": "stderr",
     "output_type": "stream",
     "text": [
      "C:\\Users\\VietNgo\\AppData\\Local\\Temp\\ipykernel_76144\\4262512925.py:1: FutureWarning: The default of observed=False is deprecated and will be changed to True in a future version of pandas. Pass observed=False to retain current behavior or observed=True to adopt the future default and silence this warning.\n",
      "  display(only_stars_data[['st_spectype', 'sy_gmag']].groupby('st_spectype').describe())\n"
     ]
    },
    {
     "data": {
      "text/html": [
       "<div>\n",
       "<style scoped>\n",
       "    .dataframe tbody tr th:only-of-type {\n",
       "        vertical-align: middle;\n",
       "    }\n",
       "\n",
       "    .dataframe tbody tr th {\n",
       "        vertical-align: top;\n",
       "    }\n",
       "\n",
       "    .dataframe thead tr th {\n",
       "        text-align: left;\n",
       "    }\n",
       "\n",
       "    .dataframe thead tr:last-of-type th {\n",
       "        text-align: right;\n",
       "    }\n",
       "</style>\n",
       "<table border=\"1\" class=\"dataframe\">\n",
       "  <thead>\n",
       "    <tr>\n",
       "      <th></th>\n",
       "      <th colspan=\"8\" halign=\"left\">sy_gmag</th>\n",
       "    </tr>\n",
       "    <tr>\n",
       "      <th></th>\n",
       "      <th>count</th>\n",
       "      <th>mean</th>\n",
       "      <th>std</th>\n",
       "      <th>min</th>\n",
       "      <th>25%</th>\n",
       "      <th>50%</th>\n",
       "      <th>75%</th>\n",
       "      <th>max</th>\n",
       "    </tr>\n",
       "    <tr>\n",
       "      <th>st_spectype</th>\n",
       "      <th></th>\n",
       "      <th></th>\n",
       "      <th></th>\n",
       "      <th></th>\n",
       "      <th></th>\n",
       "      <th></th>\n",
       "      <th></th>\n",
       "      <th></th>\n",
       "    </tr>\n",
       "  </thead>\n",
       "  <tbody>\n",
       "    <tr>\n",
       "      <th>F</th>\n",
       "      <td>38.0</td>\n",
       "      <td>13.402132</td>\n",
       "      <td>1.491581</td>\n",
       "      <td>10.76140</td>\n",
       "      <td>12.064725</td>\n",
       "      <td>13.2435</td>\n",
       "      <td>14.971975</td>\n",
       "      <td>16.4513</td>\n",
       "    </tr>\n",
       "    <tr>\n",
       "      <th>G</th>\n",
       "      <td>101.0</td>\n",
       "      <td>13.383252</td>\n",
       "      <td>1.038540</td>\n",
       "      <td>10.49290</td>\n",
       "      <td>12.721300</td>\n",
       "      <td>13.3064</td>\n",
       "      <td>14.108400</td>\n",
       "      <td>15.3870</td>\n",
       "    </tr>\n",
       "    <tr>\n",
       "      <th>K</th>\n",
       "      <td>108.0</td>\n",
       "      <td>13.208701</td>\n",
       "      <td>1.767100</td>\n",
       "      <td>10.01390</td>\n",
       "      <td>11.312600</td>\n",
       "      <td>13.5205</td>\n",
       "      <td>14.894800</td>\n",
       "      <td>16.0648</td>\n",
       "    </tr>\n",
       "    <tr>\n",
       "      <th>M</th>\n",
       "      <td>121.0</td>\n",
       "      <td>14.899588</td>\n",
       "      <td>2.070953</td>\n",
       "      <td>9.91288</td>\n",
       "      <td>13.021000</td>\n",
       "      <td>15.3392</td>\n",
       "      <td>16.452000</td>\n",
       "      <td>18.7296</td>\n",
       "    </tr>\n",
       "  </tbody>\n",
       "</table>\n",
       "</div>"
      ],
      "text/plain": [
       "            sy_gmag                                                     \\\n",
       "              count       mean       std       min        25%      50%   \n",
       "st_spectype                                                              \n",
       "F              38.0  13.402132  1.491581  10.76140  12.064725  13.2435   \n",
       "G             101.0  13.383252  1.038540  10.49290  12.721300  13.3064   \n",
       "K             108.0  13.208701  1.767100  10.01390  11.312600  13.5205   \n",
       "M             121.0  14.899588  2.070953   9.91288  13.021000  15.3392   \n",
       "\n",
       "                                 \n",
       "                   75%      max  \n",
       "st_spectype                      \n",
       "F            14.971975  16.4513  \n",
       "G            14.108400  15.3870  \n",
       "K            14.894800  16.0648  \n",
       "M            16.452000  18.7296  "
      ]
     },
     "metadata": {},
     "output_type": "display_data"
    },
    {
     "name": "stderr",
     "output_type": "stream",
     "text": [
      "C:\\Users\\VietNgo\\AppData\\Local\\Temp\\ipykernel_76144\\4262512925.py:2: FutureWarning: The default of observed=False is deprecated and will be changed to True in a future version of pandas. Pass observed=False to retain current behavior or observed=True to adopt the future default and silence this warning.\n",
      "  only_stars_data[['st_spectype', 'sy_gmag']].groupby('st_spectype').boxplot()\n"
     ]
    },
    {
     "data": {
      "text/plain": [
       "F         Axes(0.1,0.559091;0.363636x0.340909)\n",
       "G    Axes(0.536364,0.559091;0.363636x0.340909)\n",
       "K             Axes(0.1,0.15;0.363636x0.340909)\n",
       "M        Axes(0.536364,0.15;0.363636x0.340909)\n",
       "dtype: object"
      ]
     },
     "execution_count": 30,
     "metadata": {},
     "output_type": "execute_result"
    },
    {
     "data": {
      "image/png": "[encoded data removed]",
      "text/plain": [
       "<Figure size 640x480 with 4 Axes>"
      ]
     },
     "metadata": {},
     "output_type": "display_data"
    }
   ],
   "source": [
    "display(only_stars_data[['st_spectype', 'sy_gmag']].groupby('st_spectype').describe())\n",
    "only_stars_data[['st_spectype', 'sy_gmag']].groupby('st_spectype').boxplot()"
   ]
  },
  {
   "cell_type": "markdown",
   "id": "24e96346-9432-489d-a76d-1e483f84e71b",
   "metadata": {},
   "source": [
    "Again, for *M*-class of stars, the magnitude of the *g*-band is much higher than the remaining classes at 15.3 at the median."
   ]
  },
  {
   "cell_type": "code",
   "execution_count": 31,
   "id": "80321dc9-9f2c-474f-9c75-34112def6bad",
   "metadata": {},
   "outputs": [
    {
     "name": "stderr",
     "output_type": "stream",
     "text": [
      "C:\\Users\\VietNgo\\AppData\\Local\\Temp\\ipykernel_76144\\1369983850.py:1: FutureWarning: The default of observed=False is deprecated and will be changed to True in a future version of pandas. Pass observed=False to retain current behavior or observed=True to adopt the future default and silence this warning.\n",
      "  display(only_stars_data[['st_spectype', 'sy_rmag']].groupby('st_spectype').describe())\n"
     ]
    },
    {
     "data": {
      "text/html": [
       "<div>\n",
       "<style scoped>\n",
       "    .dataframe tbody tr th:only-of-type {\n",
       "        vertical-align: middle;\n",
       "    }\n",
       "\n",
       "    .dataframe tbody tr th {\n",
       "        vertical-align: top;\n",
       "    }\n",
       "\n",
       "    .dataframe thead tr th {\n",
       "        text-align: left;\n",
       "    }\n",
       "\n",
       "    .dataframe thead tr:last-of-type th {\n",
       "        text-align: right;\n",
       "    }\n",
       "</style>\n",
       "<table border=\"1\" class=\"dataframe\">\n",
       "  <thead>\n",
       "    <tr>\n",
       "      <th></th>\n",
       "      <th colspan=\"8\" halign=\"left\">sy_rmag</th>\n",
       "    </tr>\n",
       "    <tr>\n",
       "      <th></th>\n",
       "      <th>count</th>\n",
       "      <th>mean</th>\n",
       "      <th>std</th>\n",
       "      <th>min</th>\n",
       "      <th>25%</th>\n",
       "      <th>50%</th>\n",
       "      <th>75%</th>\n",
       "      <th>max</th>\n",
       "    </tr>\n",
       "    <tr>\n",
       "      <th>st_spectype</th>\n",
       "      <th></th>\n",
       "      <th></th>\n",
       "      <th></th>\n",
       "      <th></th>\n",
       "      <th></th>\n",
       "      <th></th>\n",
       "      <th></th>\n",
       "      <th></th>\n",
       "    </tr>\n",
       "  </thead>\n",
       "  <tbody>\n",
       "    <tr>\n",
       "      <th>F</th>\n",
       "      <td>38.0</td>\n",
       "      <td>12.618895</td>\n",
       "      <td>1.189809</td>\n",
       "      <td>10.31190</td>\n",
       "      <td>11.6961</td>\n",
       "      <td>12.58465</td>\n",
       "      <td>13.383525</td>\n",
       "      <td>15.7952</td>\n",
       "    </tr>\n",
       "    <tr>\n",
       "      <th>G</th>\n",
       "      <td>101.0</td>\n",
       "      <td>12.600822</td>\n",
       "      <td>1.094898</td>\n",
       "      <td>9.62924</td>\n",
       "      <td>11.9889</td>\n",
       "      <td>12.20680</td>\n",
       "      <td>13.115700</td>\n",
       "      <td>15.3971</td>\n",
       "    </tr>\n",
       "    <tr>\n",
       "      <th>K</th>\n",
       "      <td>108.0</td>\n",
       "      <td>11.951414</td>\n",
       "      <td>1.701821</td>\n",
       "      <td>8.75954</td>\n",
       "      <td>10.5964</td>\n",
       "      <td>12.06500</td>\n",
       "      <td>13.396700</td>\n",
       "      <td>15.6566</td>\n",
       "    </tr>\n",
       "    <tr>\n",
       "      <th>M</th>\n",
       "      <td>121.0</td>\n",
       "      <td>13.427750</td>\n",
       "      <td>2.009548</td>\n",
       "      <td>8.46313</td>\n",
       "      <td>11.6746</td>\n",
       "      <td>13.48880</td>\n",
       "      <td>15.271700</td>\n",
       "      <td>16.8600</td>\n",
       "    </tr>\n",
       "  </tbody>\n",
       "</table>\n",
       "</div>"
      ],
      "text/plain": [
       "            sy_rmag                                                    \\\n",
       "              count       mean       std       min      25%       50%   \n",
       "st_spectype                                                             \n",
       "F              38.0  12.618895  1.189809  10.31190  11.6961  12.58465   \n",
       "G             101.0  12.600822  1.094898   9.62924  11.9889  12.20680   \n",
       "K             108.0  11.951414  1.701821   8.75954  10.5964  12.06500   \n",
       "M             121.0  13.427750  2.009548   8.46313  11.6746  13.48880   \n",
       "\n",
       "                                 \n",
       "                   75%      max  \n",
       "st_spectype                      \n",
       "F            13.383525  15.7952  \n",
       "G            13.115700  15.3971  \n",
       "K            13.396700  15.6566  \n",
       "M            15.271700  16.8600  "
      ]
     },
     "metadata": {},
     "output_type": "display_data"
    },
    {
     "name": "stderr",
     "output_type": "stream",
     "text": [
      "C:\\Users\\VietNgo\\AppData\\Local\\Temp\\ipykernel_76144\\1369983850.py:2: FutureWarning: The default of observed=False is deprecated and will be changed to True in a future version of pandas. Pass observed=False to retain current behavior or observed=True to adopt the future default and silence this warning.\n",
      "  only_stars_data[['st_spectype', 'sy_rmag']].groupby('st_spectype').boxplot()\n"
     ]
    },
    {
     "data": {
      "text/plain": [
       "F         Axes(0.1,0.559091;0.363636x0.340909)\n",
       "G    Axes(0.536364,0.559091;0.363636x0.340909)\n",
       "K             Axes(0.1,0.15;0.363636x0.340909)\n",
       "M        Axes(0.536364,0.15;0.363636x0.340909)\n",
       "dtype: object"
      ]
     },
     "execution_count": 31,
     "metadata": {},
     "output_type": "execute_result"
    },
    {
     "data": {
      "image/png": "[encoded data removed]",
      "text/plain": [
       "<Figure size 640x480 with 4 Axes>"
      ]
     },
     "metadata": {},
     "output_type": "display_data"
    }
   ],
   "source": [
    "display(only_stars_data[['st_spectype', 'sy_rmag']].groupby('st_spectype').describe())\n",
    "only_stars_data[['st_spectype', 'sy_rmag']].groupby('st_spectype').boxplot()"
   ]
  },
  {
   "cell_type": "markdown",
   "id": "2884e329-104b-4874-b125-221cc88a994f",
   "metadata": {},
   "source": [
    "Again, for *M*-class of stars, the magnitude of the *r*-band is higher than the remaining classes at 13.4 at the median."
   ]
  },
  {
   "cell_type": "code",
   "execution_count": 32,
   "id": "4b6ccbff-ec19-4169-8e57-d34626a5d22f",
   "metadata": {},
   "outputs": [
    {
     "name": "stderr",
     "output_type": "stream",
     "text": [
      "C:\\Users\\VietNgo\\AppData\\Local\\Temp\\ipykernel_76144\\3572468148.py:1: FutureWarning: The default of observed=False is deprecated and will be changed to True in a future version of pandas. Pass observed=False to retain current behavior or observed=True to adopt the future default and silence this warning.\n",
      "  display(only_stars_data[['st_spectype', 'sy_imag']].groupby('st_spectype').describe())\n"
     ]
    },
    {
     "data": {
      "text/html": [
       "<div>\n",
       "<style scoped>\n",
       "    .dataframe tbody tr th:only-of-type {\n",
       "        vertical-align: middle;\n",
       "    }\n",
       "\n",
       "    .dataframe tbody tr th {\n",
       "        vertical-align: top;\n",
       "    }\n",
       "\n",
       "    .dataframe thead tr th {\n",
       "        text-align: left;\n",
       "    }\n",
       "\n",
       "    .dataframe thead tr:last-of-type th {\n",
       "        text-align: right;\n",
       "    }\n",
       "</style>\n",
       "<table border=\"1\" class=\"dataframe\">\n",
       "  <thead>\n",
       "    <tr>\n",
       "      <th></th>\n",
       "      <th colspan=\"8\" halign=\"left\">sy_imag</th>\n",
       "    </tr>\n",
       "    <tr>\n",
       "      <th></th>\n",
       "      <th>count</th>\n",
       "      <th>mean</th>\n",
       "      <th>std</th>\n",
       "      <th>min</th>\n",
       "      <th>25%</th>\n",
       "      <th>50%</th>\n",
       "      <th>75%</th>\n",
       "      <th>max</th>\n",
       "    </tr>\n",
       "    <tr>\n",
       "      <th>st_spectype</th>\n",
       "      <th></th>\n",
       "      <th></th>\n",
       "      <th></th>\n",
       "      <th></th>\n",
       "      <th></th>\n",
       "      <th></th>\n",
       "      <th></th>\n",
       "      <th></th>\n",
       "    </tr>\n",
       "  </thead>\n",
       "  <tbody>\n",
       "    <tr>\n",
       "      <th>F</th>\n",
       "      <td>38.0</td>\n",
       "      <td>12.576882</td>\n",
       "      <td>1.308776</td>\n",
       "      <td>10.27340</td>\n",
       "      <td>11.6210</td>\n",
       "      <td>12.4579</td>\n",
       "      <td>13.1710</td>\n",
       "      <td>15.4941</td>\n",
       "    </tr>\n",
       "    <tr>\n",
       "      <th>G</th>\n",
       "      <td>101.0</td>\n",
       "      <td>12.403310</td>\n",
       "      <td>1.144568</td>\n",
       "      <td>9.44522</td>\n",
       "      <td>11.6309</td>\n",
       "      <td>11.9824</td>\n",
       "      <td>12.8354</td>\n",
       "      <td>16.6984</td>\n",
       "    </tr>\n",
       "    <tr>\n",
       "      <th>K</th>\n",
       "      <td>108.0</td>\n",
       "      <td>11.911296</td>\n",
       "      <td>1.565200</td>\n",
       "      <td>8.42724</td>\n",
       "      <td>10.4417</td>\n",
       "      <td>12.0708</td>\n",
       "      <td>13.1720</td>\n",
       "      <td>14.5213</td>\n",
       "    </tr>\n",
       "    <tr>\n",
       "      <th>M</th>\n",
       "      <td>121.0</td>\n",
       "      <td>12.672058</td>\n",
       "      <td>2.167534</td>\n",
       "      <td>7.75055</td>\n",
       "      <td>10.9702</td>\n",
       "      <td>12.9151</td>\n",
       "      <td>14.3142</td>\n",
       "      <td>17.9112</td>\n",
       "    </tr>\n",
       "  </tbody>\n",
       "</table>\n",
       "</div>"
      ],
      "text/plain": [
       "            sy_imag                                                            \\\n",
       "              count       mean       std       min      25%      50%      75%   \n",
       "st_spectype                                                                     \n",
       "F              38.0  12.576882  1.308776  10.27340  11.6210  12.4579  13.1710   \n",
       "G             101.0  12.403310  1.144568   9.44522  11.6309  11.9824  12.8354   \n",
       "K             108.0  11.911296  1.565200   8.42724  10.4417  12.0708  13.1720   \n",
       "M             121.0  12.672058  2.167534   7.75055  10.9702  12.9151  14.3142   \n",
       "\n",
       "                      \n",
       "                 max  \n",
       "st_spectype           \n",
       "F            15.4941  \n",
       "G            16.6984  \n",
       "K            14.5213  \n",
       "M            17.9112  "
      ]
     },
     "metadata": {},
     "output_type": "display_data"
    },
    {
     "name": "stderr",
     "output_type": "stream",
     "text": [
      "C:\\Users\\VietNgo\\AppData\\Local\\Temp\\ipykernel_76144\\3572468148.py:2: FutureWarning: The default of observed=False is deprecated and will be changed to True in a future version of pandas. Pass observed=False to retain current behavior or observed=True to adopt the future default and silence this warning.\n",
      "  only_stars_data[['st_spectype', 'sy_imag']].groupby('st_spectype').boxplot()\n"
     ]
    },
    {
     "data": {
      "text/plain": [
       "F         Axes(0.1,0.559091;0.363636x0.340909)\n",
       "G    Axes(0.536364,0.559091;0.363636x0.340909)\n",
       "K             Axes(0.1,0.15;0.363636x0.340909)\n",
       "M        Axes(0.536364,0.15;0.363636x0.340909)\n",
       "dtype: object"
      ]
     },
     "execution_count": 32,
     "metadata": {},
     "output_type": "execute_result"
    },
    {
     "data": {
      "image/png": "[encoded data removed]",
      "text/plain": [
       "<Figure size 640x480 with 4 Axes>"
      ]
     },
     "metadata": {},
     "output_type": "display_data"
    }
   ],
   "source": [
    "display(only_stars_data[['st_spectype', 'sy_imag']].groupby('st_spectype').describe())\n",
    "only_stars_data[['st_spectype', 'sy_imag']].groupby('st_spectype').boxplot()"
   ]
  },
  {
   "cell_type": "markdown",
   "id": "9bd7f3bd-bec3-4704-b002-9ff9ec9d9173",
   "metadata": {},
   "source": [
    "For every class of stars, the magnitude at the *i*-band is similar."
   ]
  },
  {
   "cell_type": "code",
   "execution_count": 33,
   "id": "e1b933ff-c92c-4064-a1fd-12df6a1b9507",
   "metadata": {},
   "outputs": [
    {
     "name": "stderr",
     "output_type": "stream",
     "text": [
      "C:\\Users\\VietNgo\\AppData\\Local\\Temp\\ipykernel_76144\\3449522543.py:1: FutureWarning: The default of observed=False is deprecated and will be changed to True in a future version of pandas. Pass observed=False to retain current behavior or observed=True to adopt the future default and silence this warning.\n",
      "  display(only_stars_data[['st_spectype', 'sy_zmag']].groupby('st_spectype').describe())\n"
     ]
    },
    {
     "data": {
      "text/html": [
       "<div>\n",
       "<style scoped>\n",
       "    .dataframe tbody tr th:only-of-type {\n",
       "        vertical-align: middle;\n",
       "    }\n",
       "\n",
       "    .dataframe tbody tr th {\n",
       "        vertical-align: top;\n",
       "    }\n",
       "\n",
       "    .dataframe thead tr th {\n",
       "        text-align: left;\n",
       "    }\n",
       "\n",
       "    .dataframe thead tr:last-of-type th {\n",
       "        text-align: right;\n",
       "    }\n",
       "</style>\n",
       "<table border=\"1\" class=\"dataframe\">\n",
       "  <thead>\n",
       "    <tr>\n",
       "      <th></th>\n",
       "      <th colspan=\"8\" halign=\"left\">sy_zmag</th>\n",
       "    </tr>\n",
       "    <tr>\n",
       "      <th></th>\n",
       "      <th>count</th>\n",
       "      <th>mean</th>\n",
       "      <th>std</th>\n",
       "      <th>min</th>\n",
       "      <th>25%</th>\n",
       "      <th>50%</th>\n",
       "      <th>75%</th>\n",
       "      <th>max</th>\n",
       "    </tr>\n",
       "    <tr>\n",
       "      <th>st_spectype</th>\n",
       "      <th></th>\n",
       "      <th></th>\n",
       "      <th></th>\n",
       "      <th></th>\n",
       "      <th></th>\n",
       "      <th></th>\n",
       "      <th></th>\n",
       "      <th></th>\n",
       "    </tr>\n",
       "  </thead>\n",
       "  <tbody>\n",
       "    <tr>\n",
       "      <th>F</th>\n",
       "      <td>38.0</td>\n",
       "      <td>13.088816</td>\n",
       "      <td>0.937463</td>\n",
       "      <td>10.47840</td>\n",
       "      <td>12.9808</td>\n",
       "      <td>13.17575</td>\n",
       "      <td>13.463275</td>\n",
       "      <td>15.2871</td>\n",
       "    </tr>\n",
       "    <tr>\n",
       "      <th>G</th>\n",
       "      <td>101.0</td>\n",
       "      <td>12.970841</td>\n",
       "      <td>0.695333</td>\n",
       "      <td>9.60484</td>\n",
       "      <td>12.7326</td>\n",
       "      <td>13.04600</td>\n",
       "      <td>13.356600</td>\n",
       "      <td>14.4078</td>\n",
       "    </tr>\n",
       "    <tr>\n",
       "      <th>K</th>\n",
       "      <td>108.0</td>\n",
       "      <td>11.921180</td>\n",
       "      <td>1.529773</td>\n",
       "      <td>7.85169</td>\n",
       "      <td>10.8606</td>\n",
       "      <td>12.65380</td>\n",
       "      <td>13.240300</td>\n",
       "      <td>13.9587</td>\n",
       "    </tr>\n",
       "    <tr>\n",
       "      <th>M</th>\n",
       "      <td>121.0</td>\n",
       "      <td>12.173696</td>\n",
       "      <td>1.659763</td>\n",
       "      <td>7.76319</td>\n",
       "      <td>11.0226</td>\n",
       "      <td>12.71950</td>\n",
       "      <td>13.256500</td>\n",
       "      <td>15.1016</td>\n",
       "    </tr>\n",
       "  </tbody>\n",
       "</table>\n",
       "</div>"
      ],
      "text/plain": [
       "            sy_zmag                                                    \\\n",
       "              count       mean       std       min      25%       50%   \n",
       "st_spectype                                                             \n",
       "F              38.0  13.088816  0.937463  10.47840  12.9808  13.17575   \n",
       "G             101.0  12.970841  0.695333   9.60484  12.7326  13.04600   \n",
       "K             108.0  11.921180  1.529773   7.85169  10.8606  12.65380   \n",
       "M             121.0  12.173696  1.659763   7.76319  11.0226  12.71950   \n",
       "\n",
       "                                 \n",
       "                   75%      max  \n",
       "st_spectype                      \n",
       "F            13.463275  15.2871  \n",
       "G            13.356600  14.4078  \n",
       "K            13.240300  13.9587  \n",
       "M            13.256500  15.1016  "
      ]
     },
     "metadata": {},
     "output_type": "display_data"
    },
    {
     "name": "stderr",
     "output_type": "stream",
     "text": [
      "C:\\Users\\VietNgo\\AppData\\Local\\Temp\\ipykernel_76144\\3449522543.py:2: FutureWarning: The default of observed=False is deprecated and will be changed to True in a future version of pandas. Pass observed=False to retain current behavior or observed=True to adopt the future default and silence this warning.\n",
      "  only_stars_data[['st_spectype', 'sy_zmag']].groupby('st_spectype').boxplot()\n"
     ]
    },
    {
     "data": {
      "text/plain": [
       "F         Axes(0.1,0.559091;0.363636x0.340909)\n",
       "G    Axes(0.536364,0.559091;0.363636x0.340909)\n",
       "K             Axes(0.1,0.15;0.363636x0.340909)\n",
       "M        Axes(0.536364,0.15;0.363636x0.340909)\n",
       "dtype: object"
      ]
     },
     "execution_count": 33,
     "metadata": {},
     "output_type": "execute_result"
    },
    {
     "data": {
      "image/png": "[encoded data removed]",
      "text/plain": [
       "<Figure size 640x480 with 4 Axes>"
      ]
     },
     "metadata": {},
     "output_type": "display_data"
    }
   ],
   "source": [
    "display(only_stars_data[['st_spectype', 'sy_zmag']].groupby('st_spectype').describe())\n",
    "only_stars_data[['st_spectype', 'sy_zmag']].groupby('st_spectype').boxplot()"
   ]
  },
  {
   "cell_type": "markdown",
   "id": "e2a48d33-b5e3-47aa-9b7e-219ebe7ad9df",
   "metadata": {},
   "source": [
    "For every class of stars, the magnitude at the *i*-band is similar."
   ]
  },
  {
   "cell_type": "markdown",
   "id": "e2538521",
   "metadata": {},
   "source": [
    "## Classification Analysis"
   ]
  },
  {
   "cell_type": "code",
   "execution_count": 14,
   "id": "7b907ed9",
   "metadata": {},
   "outputs": [
    {
     "data": {
      "text/html": [
       "<div>\n",
       "<style scoped>\n",
       "    .dataframe tbody tr th:only-of-type {\n",
       "        vertical-align: middle;\n",
       "    }\n",
       "\n",
       "    .dataframe tbody tr th {\n",
       "        vertical-align: top;\n",
       "    }\n",
       "\n",
       "    .dataframe thead th {\n",
       "        text-align: right;\n",
       "    }\n",
       "</style>\n",
       "<table border=\"1\" class=\"dataframe\">\n",
       "  <thead>\n",
       "    <tr style=\"text-align: right;\">\n",
       "      <th></th>\n",
       "      <th>pl_name</th>\n",
       "      <th>st_spectype</th>\n",
       "      <th>sy_umag</th>\n",
       "      <th>sy_gmag</th>\n",
       "      <th>sy_rmag</th>\n",
       "      <th>sy_imag</th>\n",
       "      <th>sy_zmag</th>\n",
       "    </tr>\n",
       "  </thead>\n",
       "  <tbody>\n",
       "    <tr>\n",
       "      <th>count</th>\n",
       "      <td>368</td>\n",
       "      <td>368</td>\n",
       "      <td>368.000000</td>\n",
       "      <td>368.000000</td>\n",
       "      <td>368.000000</td>\n",
       "      <td>368.000000</td>\n",
       "      <td>368.000000</td>\n",
       "    </tr>\n",
       "    <tr>\n",
       "      <th>unique</th>\n",
       "      <td>217</td>\n",
       "      <td>4</td>\n",
       "      <td>NaN</td>\n",
       "      <td>NaN</td>\n",
       "      <td>NaN</td>\n",
       "      <td>NaN</td>\n",
       "      <td>NaN</td>\n",
       "    </tr>\n",
       "    <tr>\n",
       "      <th>top</th>\n",
       "      <td>K2-3 c</td>\n",
       "      <td>M</td>\n",
       "      <td>NaN</td>\n",
       "      <td>NaN</td>\n",
       "      <td>NaN</td>\n",
       "      <td>NaN</td>\n",
       "      <td>NaN</td>\n",
       "    </tr>\n",
       "    <tr>\n",
       "      <th>freq</th>\n",
       "      <td>5</td>\n",
       "      <td>121</td>\n",
       "      <td>NaN</td>\n",
       "      <td>NaN</td>\n",
       "      <td>NaN</td>\n",
       "      <td>NaN</td>\n",
       "      <td>NaN</td>\n",
       "    </tr>\n",
       "    <tr>\n",
       "      <th>mean</th>\n",
       "      <td>NaN</td>\n",
       "      <td>NaN</td>\n",
       "      <td>16.050877</td>\n",
       "      <td>13.832553</td>\n",
       "      <td>12.683998</td>\n",
       "      <td>12.365203</td>\n",
       "      <td>12.412866</td>\n",
       "    </tr>\n",
       "    <tr>\n",
       "      <th>std</th>\n",
       "      <td>NaN</td>\n",
       "      <td>NaN</td>\n",
       "      <td>1.564612</td>\n",
       "      <td>1.842717</td>\n",
       "      <td>1.725352</td>\n",
       "      <td>1.696119</td>\n",
       "      <td>1.423512</td>\n",
       "    </tr>\n",
       "    <tr>\n",
       "      <th>min</th>\n",
       "      <td>NaN</td>\n",
       "      <td>NaN</td>\n",
       "      <td>13.093200</td>\n",
       "      <td>9.912880</td>\n",
       "      <td>8.463130</td>\n",
       "      <td>7.750550</td>\n",
       "      <td>7.763190</td>\n",
       "    </tr>\n",
       "    <tr>\n",
       "      <th>25%</th>\n",
       "      <td>NaN</td>\n",
       "      <td>NaN</td>\n",
       "      <td>15.098200</td>\n",
       "      <td>12.489000</td>\n",
       "      <td>11.674600</td>\n",
       "      <td>11.386000</td>\n",
       "      <td>11.892375</td>\n",
       "    </tr>\n",
       "    <tr>\n",
       "      <th>50%</th>\n",
       "      <td>NaN</td>\n",
       "      <td>NaN</td>\n",
       "      <td>15.549600</td>\n",
       "      <td>13.759000</td>\n",
       "      <td>12.539900</td>\n",
       "      <td>12.143250</td>\n",
       "      <td>12.839400</td>\n",
       "    </tr>\n",
       "    <tr>\n",
       "      <th>75%</th>\n",
       "      <td>NaN</td>\n",
       "      <td>NaN</td>\n",
       "      <td>16.493975</td>\n",
       "      <td>15.199500</td>\n",
       "      <td>13.725700</td>\n",
       "      <td>13.436075</td>\n",
       "      <td>13.297600</td>\n",
       "    </tr>\n",
       "    <tr>\n",
       "      <th>max</th>\n",
       "      <td>NaN</td>\n",
       "      <td>NaN</td>\n",
       "      <td>21.297500</td>\n",
       "      <td>18.729600</td>\n",
       "      <td>16.860000</td>\n",
       "      <td>17.911200</td>\n",
       "      <td>15.287100</td>\n",
       "    </tr>\n",
       "  </tbody>\n",
       "</table>\n",
       "</div>"
      ],
      "text/plain": [
       "       pl_name st_spectype     sy_umag     sy_gmag     sy_rmag     sy_imag  \\\n",
       "count      368         368  368.000000  368.000000  368.000000  368.000000   \n",
       "unique     217           4         NaN         NaN         NaN         NaN   \n",
       "top     K2-3 c           M         NaN         NaN         NaN         NaN   \n",
       "freq         5         121         NaN         NaN         NaN         NaN   \n",
       "mean       NaN         NaN   16.050877   13.832553   12.683998   12.365203   \n",
       "std        NaN         NaN    1.564612    1.842717    1.725352    1.696119   \n",
       "min        NaN         NaN   13.093200    9.912880    8.463130    7.750550   \n",
       "25%        NaN         NaN   15.098200   12.489000   11.674600   11.386000   \n",
       "50%        NaN         NaN   15.549600   13.759000   12.539900   12.143250   \n",
       "75%        NaN         NaN   16.493975   15.199500   13.725700   13.436075   \n",
       "max        NaN         NaN   21.297500   18.729600   16.860000   17.911200   \n",
       "\n",
       "           sy_zmag  \n",
       "count   368.000000  \n",
       "unique         NaN  \n",
       "top            NaN  \n",
       "freq           NaN  \n",
       "mean     12.412866  \n",
       "std       1.423512  \n",
       "min       7.763190  \n",
       "25%      11.892375  \n",
       "50%      12.839400  \n",
       "75%      13.297600  \n",
       "max      15.287100  "
      ]
     },
     "execution_count": 14,
     "metadata": {},
     "output_type": "execute_result"
    }
   ],
   "source": [
    "only_stars_data.describe(include=\"all\")"
   ]
  },
  {
   "cell_type": "code",
   "execution_count": 15,
   "id": "442ca11f",
   "metadata": {},
   "outputs": [],
   "source": [
    "# We will be trying to predict what st_spectype a star has\n",
    "y = only_stars_data[\"st_spectype\"]\n",
    "\n",
    "# Our predictors will be the following 5 features\n",
    "X = only_stars_data[[\"sy_umag\", \"sy_gmag\", \"sy_rmag\", \"sy_imag\", \"sy_zmag\"]]\n",
    "\n",
    "# Creating a 75% train test split to run on our data\n",
    "X_train, X_test, y_train, y_test = train_test_split(X, \n",
    "                                                    y, \n",
    "                                                    test_size=0.3, \n",
    "                                                    random_state=123)\n"
   ]
  },
  {
   "cell_type": "code",
   "execution_count": 16,
   "id": "7ea013a4",
   "metadata": {},
   "outputs": [
    {
     "data": {
      "text/plain": [
       "st_spectype\n",
       "M    0.311284\n",
       "G    0.307393\n",
       "K    0.276265\n",
       "F    0.105058\n",
       "Name: proportion, dtype: float64"
      ]
     },
     "execution_count": 16,
     "metadata": {},
     "output_type": "execute_result"
    }
   ],
   "source": [
    "y_train.value_counts(normalize=True)"
   ]
  },
  {
   "cell_type": "markdown",
   "id": "3c4ef3b6",
   "metadata": {},
   "source": [
    "We have a pretty spread out class with no major class imbalance."
   ]
  },
  {
   "cell_type": "code",
   "execution_count": 17,
   "id": "1d2942cb",
   "metadata": {},
   "outputs": [
    {
     "data": {
      "text/plain": [
       "fit_time       0.008728\n",
       "score_time     0.000999\n",
       "test_score     0.688989\n",
       "train_score    0.705247\n",
       "dtype: float64"
      ]
     },
     "execution_count": 17,
     "metadata": {},
     "output_type": "execute_result"
    }
   ],
   "source": [
    "# Logistic Regression cross validation\n",
    "pipe = make_pipeline(StandardScaler(), LogisticRegression())\n",
    "pd.DataFrame(cross_validate(pipe, X_train, y_train, return_train_score=True)).mean()"
   ]
  },
  {
   "cell_type": "markdown",
   "id": "32129509",
   "metadata": {},
   "source": [
    "## Confusion Matrix\n",
    "One way to get a better understanding of the errors is by looking at \n",
    "- How well the classifier is identifying each class.\n",
    "- Which classes are most frequently confused with each other.\n",
    "- Overall accuracy, along with class-specific metrics like precision, recall, and F1-score for multi-class classification problems.\n",
    "\n",
    "\n",
    "It's easier to demonstrate evaluation metrics using an explicit validation set instead of using cross-validation. So let's create a validation set. "
   ]
  },
  {
   "cell_type": "code",
   "execution_count": 18,
   "id": "1eca86ae",
   "metadata": {},
   "outputs": [],
   "source": [
    "X_train_2, X_valid, y_train_2, y_valid = train_test_split(\n",
    "    X_train, y_train, test_size=0.3, random_state=123\n",
    ")"
   ]
  },
  {
   "cell_type": "code",
   "execution_count": 19,
   "id": "a53678b7",
   "metadata": {},
   "outputs": [
    {
     "name": "stdout",
     "output_type": "stream",
     "text": [
      "[[ 0  9  0  0]\n",
      " [ 0 18  6  0]\n",
      " [ 0  2 14  3]\n",
      " [ 0  0  2 24]]\n"
     ]
    }
   ],
   "source": [
    "from sklearn.metrics import confusion_matrix\n",
    "\n",
    "# Train the model on the training set\n",
    "pipe.fit(X_train, y_train)\n",
    "\n",
    "# Predict y values for the validation set\n",
    "predictions = pipe.predict(X_valid)\n",
    "\n",
    "# Compare the predicted y values with actual y values of the validaiton set using the confusion matrix\n",
    "cm = confusion_matrix(y_valid, predictions)\n",
    "print(cm)"
   ]
  },
  {
   "cell_type": "code",
   "execution_count": 20,
   "id": "caedc40d",
   "metadata": {},
   "outputs": [
    {
     "data": {
      "image/png": "[encoded data removed]",
      "text/plain": [
       "<Figure size 640x480 with 2 Axes>"
      ]
     },
     "metadata": {},
     "output_type": "display_data"
    }
   ],
   "source": [
    "#For better interpretation, we will visualize the confusion matrix using 'ConfusionMatrixDisplay'\n",
    "ConfusionMatrixDisplay.from_predictions(y_valid, predictions)\n",
    "\n",
    "plt.show()"
   ]
  },
  {
   "cell_type": "code",
   "execution_count": 21,
   "id": "73611de9-bfae-447e-b4b2-55a56b68d2b8",
   "metadata": {},
   "outputs": [
    {
     "name": "stdout",
     "output_type": "stream",
     "text": [
      "Mean cross validation score: 0.6469825990373936\n",
      "Accuracy: 0.36936936936936937\n"
     ]
    },
    {
     "name": "stderr",
     "output_type": "stream",
     "text": [
      "C:\\Users\\VietNgo\\miniconda3\\envs\\dsci-310-group16\\Lib\\site-packages\\sklearn\\base.py:486: UserWarning: X has feature names, but RandomForestClassifier was fitted without feature names\n",
      "  warnings.warn(\n"
     ]
    },
    {
     "data": {
      "text/plain": [
       "fit_time       0.179932\n",
       "score_time     0.005801\n",
       "test_score     0.852413\n",
       "train_score    0.987360\n",
       "dtype: float64"
      ]
     },
     "execution_count": 21,
     "metadata": {},
     "output_type": "execute_result"
    }
   ],
   "source": [
    "# RandomForest Classifier\n",
    "rfc = RandomForestClassifier(n_estimators=275, random_state=123)\n",
    "pipe2 = make_pipeline(StandardScaler(), rfc)\n",
    "\n",
    "# Calculate mean cross_val_score score of test scores\n",
    "cv_results = cross_val_score(pipe2, X, y, cv=5, scoring='accuracy')\n",
    "print(\"Mean cross validation score:\", cv_results.mean())\n",
    "\n",
    "# We are fitting our classifier to our dataset\n",
    "pipe2.fit(X_train, y_train)\n",
    "\n",
    "# Calculating the accuracy of our predictions made on the test set\n",
    "predictions = rfc.predict(X_test)\n",
    "accuracy = accuracy_score(y_test, predictions)\n",
    "print(\"Accuracy:\", accuracy)\n",
    "\n",
    "pd.DataFrame(cross_validate(pipe2, X_train, y_train, return_train_score=True)).mean()\n"
   ]
  },
  {
   "cell_type": "markdown",
   "id": "5dac2ef8",
   "metadata": {},
   "source": [
    "Ultimately from our validation scores, we achieve a much higher test score from our scaled data with the RandomForestClassifier model of 0.750 compared to LogisticRegression model of 0.694. However our accuracy score is quite low at 0.326."
   ]
  },
  {
   "cell_type": "markdown",
   "id": "0baeb8e9",
   "metadata": {},
   "source": [
    "# Discussion\n",
    "\n",
    "Our model yielded pretty average results with final overall accuracy of 0.326. This model is not good enough for an automated stellar classification process. In addition, our model can only classify stars into 4 classes due to the limited sample size. However these 4 classes make up about 99.8% of stellar population (Ledrew, 2001) so being unable to classify stars into remaining 3 classes isn't as big of an issue. Looking at the confusion matrix, we can see that our model tend to classify stars as cooler than they actually are (e.g: 9 stars were classified as *G* but were actually *F* class). In order to improve this model, a larger sample size would help like using the Sloan Digital Sky Survey dataset instead. Another way to improve the model is to explore other classification methods such as k nearest neighbours. Finally, using another photometric system such as UBV could help since the bands are more seperated resulting in larger difference in magnitudes between star classes. More research into other classification methods could most likely yield higher accuracy."
   ]
  },
  {
   "cell_type": "markdown",
   "id": "a4ca8de6-028f-4624-8b00-8487f0e92130",
   "metadata": {},
   "source": [
    "# References"
   ]
  },
  {
   "cell_type": "markdown",
   "id": "4eaf5200",
   "metadata": {},
   "source": [
    "- Morgan, W. W., Keenan, P. C., & Kellman, E. (1942). An atlas of stellar spectra. University of Chicago.\n",
    "- Duan, F. Q., Liu, R., Guo, P., Zhou, M. Q., & Wu, F. C. (2009). Automated spectral classification using template matching. Research in Astronomy and Astrophysics, 9(3), 341.\n",
    "- Van Rossum, G., & Drake Jr, F. L. (1995). Python tutorial (Vol. 620). Amsterdam, The Netherlands: Centrum voor Wiskunde en Informatica.\n",
    "- Hunter, J. D. (2007). Matplotlib: A 2D graphics environment. Computing in science & engineering, 9(03), 90-95.\n",
    "- Pedregosa, F., Varoquaux, G., Gramfort, A., Michel, V., Thirion, B., Grisel, O., ... & Duchesnay, É. (2011). Scikit-learn: Machine learning in Python. the Journal of machine Learning research, 12, 2825-2830.\n",
    "- McKinney, W. (2010, June). Data structures for statistical computing in python. In Proceedings of the 9th Python in Science Conference (Vol. 445, No. 1, pp. 51-56).\n",
    "- Ledrew, G. (2001). The real starry sky. Journal of the Royal Astronomical Society of Canada, Vol. 95, p. 32, 95, 32."
   ]
  }
 ],
 "metadata": {
  "kernelspec": {
   "display_name": "Python 3 (ipykernel)",
   "language": "python",
   "name": "python3"
  },
  "language_info": {
   "codemirror_mode": {
    "name": "ipython",
    "version": 3
   },
   "file_extension": ".py",
   "mimetype": "text/x-python",
   "name": "python",
   "nbconvert_exporter": "python",
   "pygments_lexer": "ipython3",
   "version": "3.12.2"
  }
 },
 "nbformat": 4,
 "nbformat_minor": 5
}
