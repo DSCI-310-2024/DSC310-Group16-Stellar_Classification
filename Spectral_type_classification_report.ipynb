{
 "cells": [
  {
   "cell_type": "markdown",
   "id": "5b0d4865-b724-499d-9b8e-b197efc60394",
   "metadata": {},
   "source": [
    "# Introduction"
   ]
  },
  {
   "cell_type": "code",
   "execution_count": 1,
   "id": "ebaec595-3591-4bb7-b64e-1eae0a936095",
   "metadata": {},
   "outputs": [
    {
     "name": "stdout",
     "output_type": "stream",
     "text": [
      "         pl_name st_spectype  sy_umag  sy_gmag  sy_rmag  sy_imag  sy_zmag\n",
      "0       11 Com b        <NA>      NaN      NaN      NaN      NaN      NaN\n",
      "1       11 Com b      G8 III      NaN      NaN      NaN      NaN      NaN\n",
      "2       11 Com b      G8 III      NaN      NaN      NaN      NaN      NaN\n",
      "3       11 UMi b        <NA>      NaN      NaN      NaN      NaN      NaN\n",
      "4       11 UMi b        <NA>      NaN      NaN      NaN      NaN      NaN\n",
      "...          ...         ...      ...      ...      ...      ...      ...\n",
      "35843  ups And d        <NA>      NaN      NaN      NaN      NaN      NaN\n",
      "35844  ups Leo b      G9 III      NaN      NaN      NaN      NaN      NaN\n",
      "35845   xi Aql b        <NA>      NaN      NaN      NaN      NaN      NaN\n",
      "35846   xi Aql b        <NA>      NaN      NaN      NaN      NaN      NaN\n",
      "35847   xi Aql b      K0 III      NaN      NaN      NaN      NaN      NaN\n",
      "\n",
      "[35848 rows x 7 columns]\n"
     ]
    }
   ],
   "source": [
    "import pandas as pd\n",
    "\n",
    "exoplanet_data = pd.read_csv('data/2024-03-01-exoplanet_dataset.csv', \n",
    "                             header = 13,\n",
    "                             dtype = {'pl_name' : 'string', 'st_spectype' : 'string'})\n",
    "print(exoplanet_data)"
   ]
  },
  {
   "cell_type": "markdown",
   "id": "1175f01e-7b22-43ae-abe0-63f209c8e751",
   "metadata": {},
   "source": [
    "This dataset from NASA's Exoplanet Archive include all planets and stars. Therefore we will wrangle the dataset such that it only contain stars with Sloan magnitudes for photometric measurements."
   ]
  },
  {
   "cell_type": "code",
   "execution_count": 6,
   "id": "e6f22b3a-024d-4aab-8454-48e3475d1ad1",
   "metadata": {},
   "outputs": [
    {
     "name": "stdout",
     "output_type": "stream",
     "text": [
      "pl_name        string[python]\n",
      "st_spectype    string[python]\n",
      "sy_umag               float64\n",
      "sy_gmag               float64\n",
      "sy_rmag               float64\n",
      "sy_imag               float64\n",
      "sy_zmag               float64\n",
      "dtype: object\n",
      "            pl_name st_spectype  sy_umag  sy_gmag    sy_rmag   sy_imag  \\\n",
      "180    BD+20 2457 b           K  14.9129  10.5155   9.277390   8.84049   \n",
      "182    BD+20 2457 c           K  14.9129  10.5155   9.277390   8.84049   \n",
      "183     BD+20 274 b           K  14.3374  10.1863   8.941711   8.49228   \n",
      "210      BD-17 63 b           K  14.1468  10.2994   9.211040   8.86964   \n",
      "215        CD Cet b           M  17.4608  15.0603  13.949400  14.18480   \n",
      "...             ...         ...      ...      ...        ...       ...   \n",
      "35641        XO-1 b           G  14.8365  11.7844  11.049500  10.86850   \n",
      "35701        XO-5 b           G  15.3529  15.0080  11.988900  11.82070   \n",
      "35702        XO-5 b           G  15.3529  15.0080  11.988900  11.82070   \n",
      "35703        XO-5 b           G  15.3529  15.0080  11.988900  11.82070   \n",
      "35704        XO-5 b           G  15.3529  15.0080  11.988900  11.82070   \n",
      "\n",
      "        sy_zmag  \n",
      "180     8.97784  \n",
      "182     8.97784  \n",
      "183     8.90440  \n",
      "210     9.00956  \n",
      "215    13.29560  \n",
      "...         ...  \n",
      "35641  11.31440  \n",
      "35701  13.65610  \n",
      "35702  13.65610  \n",
      "35703  13.65610  \n",
      "35704  13.65610  \n",
      "\n",
      "[371 rows x 7 columns]\n"
     ]
    },
    {
     "name": "stderr",
     "output_type": "stream",
     "text": [
      "/tmp/ipykernel_13928/3941909005.py:8: SettingWithCopyWarning: \n",
      "A value is trying to be set on a copy of a slice from a DataFrame.\n",
      "Try using .loc[row_indexer,col_indexer] = value instead\n",
      "\n",
      "See the caveats in the documentation: https://pandas.pydata.org/pandas-docs/stable/user_guide/indexing.html#returning-a-view-versus-a-copy\n",
      "  only_stars_data[\"st_spectype\"] = only_stars_data['st_spectype'].transform(lambda x: x[0])\n"
     ]
    }
   ],
   "source": [
    "only_stars_data = exoplanet_data.dropna(subset = ['st_spectype',\n",
    "                                                  'sy_umag',\n",
    "                                                  'sy_gmag',\n",
    "                                                  'sy_rmag',\n",
    "                                                  'sy_imag',\n",
    "                                                  'sy_zmag'])\n",
    "print(only_stars_data.dtypes)\n",
    "only_stars_data[\"st_spectype\"] = only_stars_data['st_spectype'].transform(lambda x: x[0])\n",
    "print(only_stars_data)"
   ]
  },
  {
   "cell_type": "code",
   "execution_count": null,
   "id": "54147268-1dd2-48d7-ad9a-be6dcc12ba68",
   "metadata": {},
   "outputs": [],
   "source": []
  }
 ],
 "metadata": {
  "kernelspec": {
   "display_name": "Python 3 (ipykernel)",
   "language": "python",
   "name": "python3"
  },
  "language_info": {
   "codemirror_mode": {
    "name": "ipython",
    "version": 3
   },
   "file_extension": ".py",
   "mimetype": "text/x-python",
   "name": "python",
   "nbconvert_exporter": "python",
   "pygments_lexer": "ipython3",
   "version": "3.11.5"
  }
 },
 "nbformat": 4,
 "nbformat_minor": 5
}
