{
 "cells": [
  {
   "cell_type": "markdown",
   "id": "5b0d4865-b724-499d-9b8e-b197efc60394",
   "metadata": {},
   "source": [
    "# Results and Discussion"
   ]
  },
  {
   "cell_type": "markdown",
   "id": "ebcf2006",
   "metadata": {},
   "source": [
    "First of all, let's import the packages we will use to carry out the analysis."
   ]
  },
  {
   "cell_type": "code",
   "execution_count": 5,
   "id": "d1544a50",
   "metadata": {},
   "outputs": [],
   "source": [
    "import pandas as pd\n",
    "import requests\n",
    "import os\n",
    "from datetime import datetime"
   ]
  },
  {
   "cell_type": "markdown",
   "id": "36be545d",
   "metadata": {},
   "source": [
    "We then download the dataset of interest; the Expoplanet dataset from NASA, containing information about measurements of planets and stars."
   ]
  },
  {
   "cell_type": "code",
   "execution_count": 32,
   "id": "ebaec595-3591-4bb7-b64e-1eae0a936095",
   "metadata": {},
   "outputs": [
    {
     "name": "stdout",
     "output_type": "stream",
     "text": [
      "1\n",
      "Using already existing dataset under data/raw\n",
      "         pl_name st_spectype  sy_umag  sy_gmag  sy_rmag  sy_imag  sy_zmag\n",
      "0       11 Com b        <NA>      NaN      NaN      NaN      NaN      NaN\n",
      "1       11 Com b      G8 III      NaN      NaN      NaN      NaN      NaN\n",
      "2       11 Com b      G8 III      NaN      NaN      NaN      NaN      NaN\n",
      "3       11 UMi b        <NA>      NaN      NaN      NaN      NaN      NaN\n",
      "4       11 UMi b        <NA>      NaN      NaN      NaN      NaN      NaN\n",
      "...          ...         ...      ...      ...      ...      ...      ...\n",
      "35843  ups And d        <NA>      NaN      NaN      NaN      NaN      NaN\n",
      "35844  ups Leo b      G9 III      NaN      NaN      NaN      NaN      NaN\n",
      "35845   xi Aql b        <NA>      NaN      NaN      NaN      NaN      NaN\n",
      "35846   xi Aql b        <NA>      NaN      NaN      NaN      NaN      NaN\n",
      "35847   xi Aql b      K0 III      NaN      NaN      NaN      NaN      NaN\n",
      "\n",
      "[35848 rows x 7 columns]\n"
     ]
    }
   ],
   "source": [
    "current_date = datetime.now().date().strftime(\"%Y-%m-%d\")\n",
    "\n",
    "raw_data_dir = os.path.join(\"data\", \"raw\")\n",
    "raw_data_path = os.path.join(raw_data_dir, f\"{current_date}_planet-systems.csv\")\n",
    "\n",
    "# make directory where we store our raw data\n",
    "os.makedirs(raw_data_dir, exist_ok=True)\n",
    "\n",
    "# check if we already have the dataset downloaded\n",
    "if len(os.listdir(raw_data_dir)) != 0:\n",
    "    print(len(os.listdir(raw_data_dir)))\n",
    "    print(f\"Using already existing dataset under {raw_data_dir}\")\n",
    "else:\n",
    "    # download the raw data as CSV under the raw data directory\n",
    "    url = \"https://exoplanetarchive.ipac.caltech.edu/cgi-bin/IceTable/nph-iceTblDownload\"\n",
    "    print(f\"Downloading Planet Systems dataset from {url}\")\n",
    "\n",
    "    # define an HTTP request\n",
    "    payload = {\n",
    "        \"workspace\": \"2024.02.29_21.58.35_020450/TblView/2024.03.02_14.52.28_004142\",\n",
    "        \"useTimestamp\": \"1\",\n",
    "        \"table\": \"/exodata/kvmexoweb/ExoTables/PS.tbl\",\n",
    "        \"format\": \"CSV\",\n",
    "        \"user\": \"\",\n",
    "        \"label\": \"*\",\n",
    "        \"columns\": \"pl_name_display,st_spectype,sy_umagstr,sy_gmagstr,sy_rmagstr,sy_imagstr,sy_zmagstr\",\n",
    "        \"rows\": \"both\",\n",
    "        \"mission\": \"ExoplanetArchive\"\n",
    "    }\n",
    "    response = requests.get(url, params=payload)\n",
    "\n",
    "    # assume request was successfull and access the downloaded content    \n",
    "    raw_data = response.content\n",
    "\n",
    "    # write downloaded content into a file under the raw data directory\n",
    "    with open(raw_data_path, \"wb\") as f:\n",
    "        f.write(raw_data)\n",
    "\n",
    "# df holds the expolanet dataset as a DataFrame object\n",
    "df = pd.read_csv(\n",
    "    raw_data_path,\n",
    "    header = 23, # 24-1=23\n",
    "    dtype = {'pl_name' : 'string', 'st_spectype' : 'string'}\n",
    ")\n",
    "\n",
    "# remove columns in the dataset that have 'err' in their name\n",
    "filtered_columns = [col for col in df.columns if 'err' not in col]\n",
    "\n",
    "df = df[filtered_columns]\n",
    "\n",
    "print(df)"
   ]
  },
  {
   "cell_type": "markdown",
   "id": "1175f01e-7b22-43ae-abe0-63f209c8e751",
   "metadata": {},
   "source": [
    "This dataset from NASA's Exoplanet Archive include all planets and stars. Therefore we will wrangle the dataset such that it only contain stars with Sloan magnitudes for photometric measurements."
   ]
  },
  {
   "cell_type": "code",
   "execution_count": 41,
   "id": "e6f22b3a-024d-4aab-8454-48e3475d1ad1",
   "metadata": {},
   "outputs": [
    {
     "name": "stdout",
     "output_type": "stream",
     "text": [
      "            pl_name st_spectype  sy_umag  sy_gmag    sy_rmag   sy_imag  \\\n",
      "180    BD+20 2457 b           K  14.9129  10.5155   9.277390   8.84049   \n",
      "182    BD+20 2457 c           K  14.9129  10.5155   9.277390   8.84049   \n",
      "183     BD+20 274 b           K  14.3374  10.1863   8.941711   8.49228   \n",
      "210      BD-17 63 b           K  14.1468  10.2994   9.211040   8.86964   \n",
      "215        CD Cet b           M  17.4608  15.0603  13.949400  14.18480   \n",
      "...             ...         ...      ...      ...        ...       ...   \n",
      "35641        XO-1 b           G  14.8365  11.7844  11.049500  10.86850   \n",
      "35701        XO-5 b           G  15.3529  15.0080  11.988900  11.82070   \n",
      "35702        XO-5 b           G  15.3529  15.0080  11.988900  11.82070   \n",
      "35703        XO-5 b           G  15.3529  15.0080  11.988900  11.82070   \n",
      "35704        XO-5 b           G  15.3529  15.0080  11.988900  11.82070   \n",
      "\n",
      "        sy_zmag  \n",
      "180     8.97784  \n",
      "182     8.97784  \n",
      "183     8.90440  \n",
      "210     9.00956  \n",
      "215    13.29560  \n",
      "...         ...  \n",
      "35641  11.31440  \n",
      "35701  13.65610  \n",
      "35702  13.65610  \n",
      "35703  13.65610  \n",
      "35704  13.65610  \n",
      "\n",
      "[371 rows x 7 columns]\n"
     ]
    }
   ],
   "source": [
    "only_stars_data = df.dropna(\n",
    "    subset = [\n",
    "        'st_spectype',\n",
    "        'sy_umag',\n",
    "        'sy_gmag',\n",
    "        'sy_rmag',\n",
    "        'sy_imag',\n",
    "        'sy_zmag'\n",
    "    ]\n",
    ")\n",
    "\n",
    "# we are only interested in the first letter of spectral type, which becomes our y later\n",
    "only_stars_data_copy = only_stars_data.copy() # needed to avoid warning raised by pandas\n",
    "only_stars_data_copy[\"st_spectype\"] = only_stars_data_copy['st_spectype'].transform(lambda x: x[0])\n",
    "only_stars_data = only_stars_data_copy\n",
    "\n",
    "print(only_stars_data)"
   ]
  },
  {
   "cell_type": "code",
   "execution_count": null,
   "id": "54147268-1dd2-48d7-ad9a-be6dcc12ba68",
   "metadata": {},
   "outputs": [],
   "source": []
  }
 ],
 "metadata": {
  "kernelspec": {
   "display_name": "Python 3 (ipykernel)",
   "language": "python",
   "name": "python3"
  },
  "language_info": {
   "codemirror_mode": {
    "name": "ipython",
    "version": 3
   },
   "file_extension": ".py",
   "mimetype": "text/x-python",
   "name": "python",
   "nbconvert_exporter": "python",
   "pygments_lexer": "ipython3",
   "version": "3.11.5"
  }
 },
 "nbformat": 4,
 "nbformat_minor": 5
}
